{
  "nbformat": 4,
  "nbformat_minor": 0,
  "metadata": {
    "colab": {
      "name": "labprogram2(b).ipynb",
      "provenance": []
    },
    "kernelspec": {
      "name": "python3",
      "display_name": "Python 3"
    }
  },
  "cells": [
    {
      "cell_type": "code",
      "metadata": {
        "id": "6nUwqzLrUfrC"
      },
      "source": [
        "import numpy as np\n",
        "import pandas as pd\n",
        "import matplotlib.pyplot as plt\n"
      ],
      "execution_count": null,
      "outputs": []
    },
    {
      "cell_type": "code",
      "metadata": {
        "id": "fTgl3newUrLF"
      },
      "source": [
        "#loading datasets\n",
        "df = pd.read_csv('https://raw.githubusercontent.com/nithinag10/machine_learning/main/Simple%20Linear%20Regression/housing_prices_SLR_data.csv')"
      ],
      "execution_count": 2,
      "outputs": []
    },
    {
      "cell_type": "code",
      "metadata": {
        "colab": {
          "base_uri": "https://localhost:8080/",
          "height": 1000
        },
        "id": "lDx_TAFpdazA",
        "outputId": "b200c3ef-61a3-4bb4-801b-054324ca2ac3"
      },
      "source": [
        "df"
      ],
      "execution_count": 3,
      "outputs": [
        {
          "output_type": "execute_result",
          "data": {
            "text/html": [
              "<div>\n",
              "<style scoped>\n",
              "    .dataframe tbody tr th:only-of-type {\n",
              "        vertical-align: middle;\n",
              "    }\n",
              "\n",
              "    .dataframe tbody tr th {\n",
              "        vertical-align: top;\n",
              "    }\n",
              "\n",
              "    .dataframe thead th {\n",
              "        text-align: right;\n",
              "    }\n",
              "</style>\n",
              "<table border=\"1\" class=\"dataframe\">\n",
              "  <thead>\n",
              "    <tr style=\"text-align: right;\">\n",
              "      <th></th>\n",
              "      <th>AREA</th>\n",
              "      <th>PRICE</th>\n",
              "    </tr>\n",
              "  </thead>\n",
              "  <tbody>\n",
              "    <tr>\n",
              "      <th>0</th>\n",
              "      <td>1000</td>\n",
              "      <td>5618</td>\n",
              "    </tr>\n",
              "    <tr>\n",
              "      <th>1</th>\n",
              "      <td>1030</td>\n",
              "      <td>5201</td>\n",
              "    </tr>\n",
              "    <tr>\n",
              "      <th>2</th>\n",
              "      <td>1060</td>\n",
              "      <td>4779</td>\n",
              "    </tr>\n",
              "    <tr>\n",
              "      <th>3</th>\n",
              "      <td>1090</td>\n",
              "      <td>5425</td>\n",
              "    </tr>\n",
              "    <tr>\n",
              "      <th>4</th>\n",
              "      <td>1120</td>\n",
              "      <td>5657</td>\n",
              "    </tr>\n",
              "    <tr>\n",
              "      <th>5</th>\n",
              "      <td>1150</td>\n",
              "      <td>4945</td>\n",
              "    </tr>\n",
              "    <tr>\n",
              "      <th>6</th>\n",
              "      <td>1180</td>\n",
              "      <td>6475</td>\n",
              "    </tr>\n",
              "    <tr>\n",
              "      <th>7</th>\n",
              "      <td>1210</td>\n",
              "      <td>5352</td>\n",
              "    </tr>\n",
              "    <tr>\n",
              "      <th>8</th>\n",
              "      <td>1240</td>\n",
              "      <td>6290</td>\n",
              "    </tr>\n",
              "    <tr>\n",
              "      <th>9</th>\n",
              "      <td>1270</td>\n",
              "      <td>6147</td>\n",
              "    </tr>\n",
              "    <tr>\n",
              "      <th>10</th>\n",
              "      <td>1300</td>\n",
              "      <td>7718</td>\n",
              "    </tr>\n",
              "    <tr>\n",
              "      <th>11</th>\n",
              "      <td>1330</td>\n",
              "      <td>7035</td>\n",
              "    </tr>\n",
              "    <tr>\n",
              "      <th>12</th>\n",
              "      <td>1360</td>\n",
              "      <td>8712</td>\n",
              "    </tr>\n",
              "    <tr>\n",
              "      <th>13</th>\n",
              "      <td>1390</td>\n",
              "      <td>9457</td>\n",
              "    </tr>\n",
              "    <tr>\n",
              "      <th>14</th>\n",
              "      <td>1420</td>\n",
              "      <td>7304</td>\n",
              "    </tr>\n",
              "    <tr>\n",
              "      <th>15</th>\n",
              "      <td>1450</td>\n",
              "      <td>7535</td>\n",
              "    </tr>\n",
              "    <tr>\n",
              "      <th>16</th>\n",
              "      <td>1480</td>\n",
              "      <td>9968</td>\n",
              "    </tr>\n",
              "    <tr>\n",
              "      <th>17</th>\n",
              "      <td>1510</td>\n",
              "      <td>7614</td>\n",
              "    </tr>\n",
              "    <tr>\n",
              "      <th>18</th>\n",
              "      <td>1540</td>\n",
              "      <td>9762</td>\n",
              "    </tr>\n",
              "    <tr>\n",
              "      <th>19</th>\n",
              "      <td>1570</td>\n",
              "      <td>10067</td>\n",
              "    </tr>\n",
              "    <tr>\n",
              "      <th>20</th>\n",
              "      <td>1600</td>\n",
              "      <td>8074</td>\n",
              "    </tr>\n",
              "    <tr>\n",
              "      <th>21</th>\n",
              "      <td>1630</td>\n",
              "      <td>10201</td>\n",
              "    </tr>\n",
              "    <tr>\n",
              "      <th>22</th>\n",
              "      <td>1660</td>\n",
              "      <td>10051</td>\n",
              "    </tr>\n",
              "    <tr>\n",
              "      <th>23</th>\n",
              "      <td>1690</td>\n",
              "      <td>9775</td>\n",
              "    </tr>\n",
              "    <tr>\n",
              "      <th>24</th>\n",
              "      <td>1720</td>\n",
              "      <td>10229</td>\n",
              "    </tr>\n",
              "    <tr>\n",
              "      <th>25</th>\n",
              "      <td>1750</td>\n",
              "      <td>8314</td>\n",
              "    </tr>\n",
              "    <tr>\n",
              "      <th>26</th>\n",
              "      <td>1780</td>\n",
              "      <td>9288</td>\n",
              "    </tr>\n",
              "    <tr>\n",
              "      <th>27</th>\n",
              "      <td>1810</td>\n",
              "      <td>10503</td>\n",
              "    </tr>\n",
              "    <tr>\n",
              "      <th>28</th>\n",
              "      <td>1840</td>\n",
              "      <td>9763</td>\n",
              "    </tr>\n",
              "    <tr>\n",
              "      <th>29</th>\n",
              "      <td>1870</td>\n",
              "      <td>11527</td>\n",
              "    </tr>\n",
              "    <tr>\n",
              "      <th>30</th>\n",
              "      <td>1900</td>\n",
              "      <td>9912</td>\n",
              "    </tr>\n",
              "    <tr>\n",
              "      <th>31</th>\n",
              "      <td>1930</td>\n",
              "      <td>10204</td>\n",
              "    </tr>\n",
              "    <tr>\n",
              "      <th>32</th>\n",
              "      <td>1960</td>\n",
              "      <td>9085</td>\n",
              "    </tr>\n",
              "    <tr>\n",
              "      <th>33</th>\n",
              "      <td>1990</td>\n",
              "      <td>10240</td>\n",
              "    </tr>\n",
              "    <tr>\n",
              "      <th>34</th>\n",
              "      <td>2020</td>\n",
              "      <td>15220</td>\n",
              "    </tr>\n",
              "    <tr>\n",
              "      <th>35</th>\n",
              "      <td>2050</td>\n",
              "      <td>12278</td>\n",
              "    </tr>\n",
              "    <tr>\n",
              "      <th>36</th>\n",
              "      <td>2080</td>\n",
              "      <td>22270</td>\n",
              "    </tr>\n",
              "    <tr>\n",
              "      <th>37</th>\n",
              "      <td>2110</td>\n",
              "      <td>12574</td>\n",
              "    </tr>\n",
              "    <tr>\n",
              "      <th>38</th>\n",
              "      <td>2140</td>\n",
              "      <td>12618</td>\n",
              "    </tr>\n",
              "    <tr>\n",
              "      <th>39</th>\n",
              "      <td>2170</td>\n",
              "      <td>15457</td>\n",
              "    </tr>\n",
              "    <tr>\n",
              "      <th>40</th>\n",
              "      <td>2200</td>\n",
              "      <td>12793</td>\n",
              "    </tr>\n",
              "    <tr>\n",
              "      <th>41</th>\n",
              "      <td>2230</td>\n",
              "      <td>12641</td>\n",
              "    </tr>\n",
              "    <tr>\n",
              "      <th>42</th>\n",
              "      <td>2260</td>\n",
              "      <td>17207</td>\n",
              "    </tr>\n",
              "    <tr>\n",
              "      <th>43</th>\n",
              "      <td>2290</td>\n",
              "      <td>16969</td>\n",
              "    </tr>\n",
              "    <tr>\n",
              "      <th>44</th>\n",
              "      <td>2320</td>\n",
              "      <td>16293</td>\n",
              "    </tr>\n",
              "    <tr>\n",
              "      <th>45</th>\n",
              "      <td>2350</td>\n",
              "      <td>16845</td>\n",
              "    </tr>\n",
              "    <tr>\n",
              "      <th>46</th>\n",
              "      <td>2380</td>\n",
              "      <td>17604</td>\n",
              "    </tr>\n",
              "    <tr>\n",
              "      <th>47</th>\n",
              "      <td>2410</td>\n",
              "      <td>17310</td>\n",
              "    </tr>\n",
              "    <tr>\n",
              "      <th>48</th>\n",
              "      <td>2440</td>\n",
              "      <td>14036</td>\n",
              "    </tr>\n",
              "    <tr>\n",
              "      <th>49</th>\n",
              "      <td>2470</td>\n",
              "      <td>13699</td>\n",
              "    </tr>\n",
              "  </tbody>\n",
              "</table>\n",
              "</div>"
            ],
            "text/plain": [
              "    AREA  PRICE\n",
              "0   1000   5618\n",
              "1   1030   5201\n",
              "2   1060   4779\n",
              "3   1090   5425\n",
              "4   1120   5657\n",
              "5   1150   4945\n",
              "6   1180   6475\n",
              "7   1210   5352\n",
              "8   1240   6290\n",
              "9   1270   6147\n",
              "10  1300   7718\n",
              "11  1330   7035\n",
              "12  1360   8712\n",
              "13  1390   9457\n",
              "14  1420   7304\n",
              "15  1450   7535\n",
              "16  1480   9968\n",
              "17  1510   7614\n",
              "18  1540   9762\n",
              "19  1570  10067\n",
              "20  1600   8074\n",
              "21  1630  10201\n",
              "22  1660  10051\n",
              "23  1690   9775\n",
              "24  1720  10229\n",
              "25  1750   8314\n",
              "26  1780   9288\n",
              "27  1810  10503\n",
              "28  1840   9763\n",
              "29  1870  11527\n",
              "30  1900   9912\n",
              "31  1930  10204\n",
              "32  1960   9085\n",
              "33  1990  10240\n",
              "34  2020  15220\n",
              "35  2050  12278\n",
              "36  2080  22270\n",
              "37  2110  12574\n",
              "38  2140  12618\n",
              "39  2170  15457\n",
              "40  2200  12793\n",
              "41  2230  12641\n",
              "42  2260  17207\n",
              "43  2290  16969\n",
              "44  2320  16293\n",
              "45  2350  16845\n",
              "46  2380  17604\n",
              "47  2410  17310\n",
              "48  2440  14036\n",
              "49  2470  13699"
            ]
          },
          "metadata": {
            "tags": []
          },
          "execution_count": 3
        }
      ]
    },
    {
      "cell_type": "code",
      "metadata": {
        "colab": {
          "base_uri": "https://localhost:8080/",
          "height": 282
        },
        "id": "pr7OL2Z6db5J",
        "outputId": "63789f34-f90f-41d5-b231-2192c975a101"
      },
      "source": [
        "plt.scatter(df['AREA'] , df['PRICE'] , c= np.random.random(df.shape[0]))"
      ],
      "execution_count": 11,
      "outputs": [
        {
          "output_type": "execute_result",
          "data": {
            "text/plain": [
              "<matplotlib.collections.PathCollection at 0x7f1d3d98d358>"
            ]
          },
          "metadata": {
            "tags": []
          },
          "execution_count": 11
        },
        {
          "output_type": "display_data",
          "data": {
            "image/png": "[encoded data removed]",
            "text/plain": [
              "<Figure size 432x288 with 1 Axes>"
            ]
          },
          "metadata": {
            "tags": [],
            "needs_background": "light"
          }
        }
      ]
    },
    {
      "cell_type": "code",
      "metadata": {
        "colab": {
          "base_uri": "https://localhost:8080/",
          "height": 164
        },
        "id": "Q7Q3kwuIdnGo",
        "outputId": "22c45067-cc3b-4bc1-bb3c-97a6e81e47d4"
      },
      "source": [
        "df.shape()"
      ],
      "execution_count": 5,
      "outputs": [
        {
          "output_type": "error",
          "ename": "TypeError",
          "evalue": "ignored",
          "traceback": [
            "\u001b[0;31m---------------------------------------------------------------------------\u001b[0m",
            "\u001b[0;31mTypeError\u001b[0m                                 Traceback (most recent call last)",
            "\u001b[0;32m<ipython-input-5-0e566b70f572>\u001b[0m in \u001b[0;36m<module>\u001b[0;34m()\u001b[0m\n\u001b[0;32m----> 1\u001b[0;31m \u001b[0mdf\u001b[0m\u001b[0;34m.\u001b[0m\u001b[0mshape\u001b[0m\u001b[0;34m(\u001b[0m\u001b[0;34m)\u001b[0m\u001b[0;34m\u001b[0m\u001b[0;34m\u001b[0m\u001b[0m\n\u001b[0m",
            "\u001b[0;31mTypeError\u001b[0m: 'tuple' object is not callable"
          ]
        }
      ]
    },
    {
      "cell_type": "code",
      "metadata": {
        "colab": {
          "base_uri": "https://localhost:8080/"
        },
        "id": "Ozr6UtWSdwF1",
        "outputId": "f2738b79-1237-440c-99b7-370965763fe7"
      },
      "source": [
        "df.shape"
      ],
      "execution_count": 6,
      "outputs": [
        {
          "output_type": "execute_result",
          "data": {
            "text/plain": [
              "(50, 2)"
            ]
          },
          "metadata": {
            "tags": []
          },
          "execution_count": 6
        }
      ]
    },
    {
      "cell_type": "code",
      "metadata": {
        "id": "2KNuLqJodxho"
      },
      "source": [
        "col = np.random.random(df.shape[0])"
      ],
      "execution_count": 8,
      "outputs": []
    },
    {
      "cell_type": "code",
      "metadata": {
        "colab": {
          "base_uri": "https://localhost:8080/"
        },
        "id": "GfFMMjdAd4EW",
        "outputId": "e5de5686-1dd8-44ed-f425-06ce459c896c"
      },
      "source": [
        "col"
      ],
      "execution_count": 9,
      "outputs": [
        {
          "output_type": "execute_result",
          "data": {
            "text/plain": [
              "array([0.06666612, 0.26944322, 0.44697123, 0.522743  , 0.57195494,\n",
              "       0.6696625 , 0.96646598, 0.13007949, 0.71555158, 0.27326144,\n",
              "       0.74667849, 0.55288508, 0.49777026, 0.36780723, 0.62579616,\n",
              "       0.89866248, 0.32260057, 0.74465965, 0.01093576, 0.94025083,\n",
              "       0.90616747, 0.00379298, 0.892302  , 0.98113459, 0.24862682,\n",
              "       0.48412055, 0.80956179, 0.10549405, 0.92715782, 0.90847359,\n",
              "       0.45798288, 0.85197286, 0.55636857, 0.37415777, 0.89602456,\n",
              "       0.34235168, 0.76186831, 0.31518446, 0.86627238, 0.38890294,\n",
              "       0.96778916, 0.1335202 , 0.79018422, 0.27244872, 0.62716589,\n",
              "       0.47020565, 0.55431401, 0.74078001, 0.65563811, 0.59940581])"
            ]
          },
          "metadata": {
            "tags": []
          },
          "execution_count": 9
        }
      ]
    },
    {
      "cell_type": "code",
      "metadata": {
        "colab": {
          "base_uri": "https://localhost:8080/"
        },
        "id": "grhzN6HLd7o7",
        "outputId": "49ebee07-a695-4348-8ab8-461981628428"
      },
      "source": [
        "df.shape [0]"
      ],
      "execution_count": 10,
      "outputs": [
        {
          "output_type": "execute_result",
          "data": {
            "text/plain": [
              "50"
            ]
          },
          "metadata": {
            "tags": []
          },
          "execution_count": 10
        }
      ]
    },
    {
      "cell_type": "code",
      "metadata": {
        "id": "YYE9vqIWd_Z3"
      },
      "source": [
        "#Feature matrix and target matrix\n",
        "X = df['AREA'].values"
      ],
      "execution_count": 12,
      "outputs": []
    },
    {
      "cell_type": "code",
      "metadata": {
        "colab": {
          "base_uri": "https://localhost:8080/"
        },
        "id": "c7DZbIXHegeR",
        "outputId": "4712a0db-1193-45e7-d280-c9fffd88178a"
      },
      "source": [
        "X"
      ],
      "execution_count": 13,
      "outputs": [
        {
          "output_type": "execute_result",
          "data": {
            "text/plain": [
              "array([1000, 1030, 1060, 1090, 1120, 1150, 1180, 1210, 1240, 1270, 1300,\n",
              "       1330, 1360, 1390, 1420, 1450, 1480, 1510, 1540, 1570, 1600, 1630,\n",
              "       1660, 1690, 1720, 1750, 1780, 1810, 1840, 1870, 1900, 1930, 1960,\n",
              "       1990, 2020, 2050, 2080, 2110, 2140, 2170, 2200, 2230, 2260, 2290,\n",
              "       2320, 2350, 2380, 2410, 2440, 2470])"
            ]
          },
          "metadata": {
            "tags": []
          },
          "execution_count": 13
        }
      ]
    },
    {
      "cell_type": "code",
      "metadata": {
        "colab": {
          "base_uri": "https://localhost:8080/"
        },
        "id": "3CPU9Uhkeg_-",
        "outputId": "c875bfed-2368-4057-b767-dcde1abb5c19"
      },
      "source": [
        "X = df[['AREA']].values\n",
        "X"
      ],
      "execution_count": 22,
      "outputs": [
        {
          "output_type": "execute_result",
          "data": {
            "text/plain": [
              "array([[1000],\n",
              "       [1030],\n",
              "       [1060],\n",
              "       [1090],\n",
              "       [1120],\n",
              "       [1150],\n",
              "       [1180],\n",
              "       [1210],\n",
              "       [1240],\n",
              "       [1270],\n",
              "       [1300],\n",
              "       [1330],\n",
              "       [1360],\n",
              "       [1390],\n",
              "       [1420],\n",
              "       [1450],\n",
              "       [1480],\n",
              "       [1510],\n",
              "       [1540],\n",
              "       [1570],\n",
              "       [1600],\n",
              "       [1630],\n",
              "       [1660],\n",
              "       [1690],\n",
              "       [1720],\n",
              "       [1750],\n",
              "       [1780],\n",
              "       [1810],\n",
              "       [1840],\n",
              "       [1870],\n",
              "       [1900],\n",
              "       [1930],\n",
              "       [1960],\n",
              "       [1990],\n",
              "       [2020],\n",
              "       [2050],\n",
              "       [2080],\n",
              "       [2110],\n",
              "       [2140],\n",
              "       [2170],\n",
              "       [2200],\n",
              "       [2230],\n",
              "       [2260],\n",
              "       [2290],\n",
              "       [2320],\n",
              "       [2350],\n",
              "       [2380],\n",
              "       [2410],\n",
              "       [2440],\n",
              "       [2470]])"
            ]
          },
          "metadata": {
            "tags": []
          },
          "execution_count": 22
        }
      ]
    },
    {
      "cell_type": "code",
      "metadata": {
        "id": "RcY0TeTvemIR"
      },
      "source": [
        "Y = df.PRICE.values #Target Matrix"
      ],
      "execution_count": 18,
      "outputs": []
    },
    {
      "cell_type": "code",
      "metadata": {
        "colab": {
          "base_uri": "https://localhost:8080/"
        },
        "id": "Dki6RYKrem30",
        "outputId": "4e214982-e9a9-4d3b-8876-6b9171c32e2f"
      },
      "source": [
        "X[:5]"
      ],
      "execution_count": 19,
      "outputs": [
        {
          "output_type": "execute_result",
          "data": {
            "text/plain": [
              "array([[1000],\n",
              "       [1030],\n",
              "       [1060],\n",
              "       [1090],\n",
              "       [1120]])"
            ]
          },
          "metadata": {
            "tags": []
          },
          "execution_count": 19
        }
      ]
    },
    {
      "cell_type": "code",
      "metadata": {
        "colab": {
          "base_uri": "https://localhost:8080/"
        },
        "id": "hNb_Lxppe9ur",
        "outputId": "21bafe18-cda2-4000-c18e-0f26aaddf77d"
      },
      "source": [
        "Y"
      ],
      "execution_count": 20,
      "outputs": [
        {
          "output_type": "execute_result",
          "data": {
            "text/plain": [
              "array([ 5618,  5201,  4779,  5425,  5657,  4945,  6475,  5352,  6290,\n",
              "        6147,  7718,  7035,  8712,  9457,  7304,  7535,  9968,  7614,\n",
              "        9762, 10067,  8074, 10201, 10051,  9775, 10229,  8314,  9288,\n",
              "       10503,  9763, 11527,  9912, 10204,  9085, 10240, 15220, 12278,\n",
              "       22270, 12574, 12618, 15457, 12793, 12641, 17207, 16969, 16293,\n",
              "       16845, 17604, 17310, 14036, 13699])"
            ]
          },
          "metadata": {
            "tags": []
          },
          "execution_count": 20
        }
      ]
    },
    {
      "cell_type": "code",
      "metadata": {
        "colab": {
          "base_uri": "https://localhost:8080/"
        },
        "id": "N2sit4lUgyP9",
        "outputId": "0854dee5-3194-4283-922c-977251965c8d"
      },
      "source": [
        "Y[:5]"
      ],
      "execution_count": 21,
      "outputs": [
        {
          "output_type": "execute_result",
          "data": {
            "text/plain": [
              "array([5618, 5201, 4779, 5425, 5657])"
            ]
          },
          "metadata": {
            "tags": []
          },
          "execution_count": 21
        }
      ]
    },
    {
      "cell_type": "code",
      "metadata": {
        "id": "G-qBQCymg0Tj"
      },
      "source": [
        "#spiting data\n",
        "from sklearn.model_selection import train_test_split\n"
      ],
      "execution_count": 26,
      "outputs": []
    },
    {
      "cell_type": "code",
      "metadata": {
        "id": "tMrvBuOmhRYa"
      },
      "source": [
        "x_train , x_test , y_train , y_test = train_test_split(X , Y , test_size = 0.2 , random_state=100)"
      ],
      "execution_count": 27,
      "outputs": []
    },
    {
      "cell_type": "code",
      "metadata": {
        "colab": {
          "base_uri": "https://localhost:8080/"
        },
        "id": "U6uc4ftehUK8",
        "outputId": "2dc114df-bcf8-4b47-e914-7460caf9acf8"
      },
      "source": [
        "x_train.shape"
      ],
      "execution_count": 29,
      "outputs": [
        {
          "output_type": "execute_result",
          "data": {
            "text/plain": [
              "(40, 1)"
            ]
          },
          "metadata": {
            "tags": []
          },
          "execution_count": 29
        }
      ]
    },
    {
      "cell_type": "code",
      "metadata": {
        "colab": {
          "base_uri": "https://localhost:8080/"
        },
        "id": "fh07OtW0hwCD",
        "outputId": "e2debc66-eef3-4e50-8bd5-d7d3bda479f5"
      },
      "source": [
        "x_test.shape"
      ],
      "execution_count": 33,
      "outputs": [
        {
          "output_type": "execute_result",
          "data": {
            "text/plain": [
              "(10, 1)"
            ]
          },
          "metadata": {
            "tags": []
          },
          "execution_count": 33
        }
      ]
    },
    {
      "cell_type": "code",
      "metadata": {
        "id": "9bF-bYbbhymx"
      },
      "source": [
        "#fit the data in the model\n",
        "from sklearn.linear_model import LinearRegression\n",
        "model = LinearRegression()"
      ],
      "execution_count": 34,
      "outputs": []
    },
    {
      "cell_type": "code",
      "metadata": {
        "colab": {
          "base_uri": "https://localhost:8080/"
        },
        "id": "avFJ7dDriB0B",
        "outputId": "88f3399b-00d2-42d4-f83f-17a9b16ca530"
      },
      "source": [
        "model.fit(x_train , y_train) "
      ],
      "execution_count": 35,
      "outputs": [
        {
          "output_type": "execute_result",
          "data": {
            "text/plain": [
              "LinearRegression(copy_X=True, fit_intercept=True, n_jobs=None, normalize=False)"
            ]
          },
          "metadata": {
            "tags": []
          },
          "execution_count": 35
        }
      ]
    },
    {
      "cell_type": "code",
      "metadata": {
        "colab": {
          "base_uri": "https://localhost:8080/"
        },
        "id": "I1VFI_hOiGXD",
        "outputId": "f4d7b031-18f0-4b8a-f57f-110762637a56"
      },
      "source": [
        "model.coef_"
      ],
      "execution_count": 36,
      "outputs": [
        {
          "output_type": "execute_result",
          "data": {
            "text/plain": [
              "array([7.75979089])"
            ]
          },
          "metadata": {
            "tags": []
          },
          "execution_count": 36
        }
      ]
    },
    {
      "cell_type": "code",
      "metadata": {
        "colab": {
          "base_uri": "https://localhost:8080/"
        },
        "id": "JYO_ZiWZiJPv",
        "outputId": "a950cf34-3624-4750-d10f-59006dd81369"
      },
      "source": [
        "model.intercept_"
      ],
      "execution_count": 37,
      "outputs": [
        {
          "output_type": "execute_result",
          "data": {
            "text/plain": [
              "-3103.34066448488"
            ]
          },
          "metadata": {
            "tags": []
          },
          "execution_count": 37
        }
      ]
    },
    {
      "cell_type": "code",
      "metadata": {
        "colab": {
          "base_uri": "https://localhost:8080/"
        },
        "id": "gmY2VP2SiL8M",
        "outputId": "743c36c0-7140-45bd-bfeb-b4c7c5faed9e"
      },
      "source": [
        "#predict using model\n",
        "model.predict([[2000]])"
      ],
      "execution_count": 38,
      "outputs": [
        {
          "output_type": "execute_result",
          "data": {
            "text/plain": [
              "array([12416.24111714])"
            ]
          },
          "metadata": {
            "tags": []
          },
          "execution_count": 38
        }
      ]
    },
    {
      "cell_type": "code",
      "metadata": {
        "id": "Yp8ydvw_iXTA"
      },
      "source": [
        "from sklearn.metrics import r2_score"
      ],
      "execution_count": 39,
      "outputs": []
    },
    {
      "cell_type": "code",
      "metadata": {
        "colab": {
          "base_uri": "https://localhost:8080/"
        },
        "id": "NmSCLQKTilel",
        "outputId": "4c0158a9-93a0-4313-98d3-c93e2a7c2200"
      },
      "source": [
        "model.predict(x_test)"
      ],
      "execution_count": 40,
      "outputs": [
        {
          "output_type": "execute_result",
          "data": {
            "text/plain": [
              "array([ 6053.21258668, 13037.02438841, 13269.81811513, 11174.67457461,\n",
              "       14666.58047548, 16063.34283583,  5820.41885995, 12338.64320824,\n",
              "        9312.32476082, 14433.78674876])"
            ]
          },
          "metadata": {
            "tags": []
          },
          "execution_count": 40
        }
      ]
    },
    {
      "cell_type": "code",
      "metadata": {
        "colab": {
          "base_uri": "https://localhost:8080/"
        },
        "id": "yGX6qycOisOI",
        "outputId": "0bf3e734-6acb-4491-ec9f-03304472b5bd"
      },
      "source": [
        "#Calculating r2 score\n",
        "r2_score(y_train , model.predict(x_train)) #First way of calculating r2"
      ],
      "execution_count": 41,
      "outputs": [
        {
          "output_type": "execute_result",
          "data": {
            "text/plain": [
              "0.865632112064227"
            ]
          },
          "metadata": {
            "tags": []
          },
          "execution_count": 41
        }
      ]
    },
    {
      "cell_type": "code",
      "metadata": {
        "colab": {
          "base_uri": "https://localhost:8080/"
        },
        "id": "_0Gnf5VBjFgb",
        "outputId": "bed3fbce-f459-4765-db41-251f7324472d"
      },
      "source": [
        "r2_score(y_test , model.predict(x_test))"
      ],
      "execution_count": 42,
      "outputs": [
        {
          "output_type": "execute_result",
          "data": {
            "text/plain": [
              "0.570954870212099"
            ]
          },
          "metadata": {
            "tags": []
          },
          "execution_count": 42
        }
      ]
    },
    {
      "cell_type": "code",
      "metadata": {
        "id": "m7c0S2LWjLN6"
      },
      "source": [
        "y_predict = model.predict(x_test)"
      ],
      "execution_count": 45,
      "outputs": []
    },
    {
      "cell_type": "code",
      "metadata": {
        "colab": {
          "base_uri": "https://localhost:8080/"
        },
        "id": "ozl1sIeHjPxV",
        "outputId": "68922c69-3fa9-4f97-90bd-0565640a428b"
      },
      "source": [
        "y_predict"
      ],
      "execution_count": 46,
      "outputs": [
        {
          "output_type": "execute_result",
          "data": {
            "text/plain": [
              "array([ 6053.21258668, 13037.02438841, 13269.81811513, 11174.67457461,\n",
              "       14666.58047548, 16063.34283583,  5820.41885995, 12338.64320824,\n",
              "        9312.32476082, 14433.78674876])"
            ]
          },
          "metadata": {
            "tags": []
          },
          "execution_count": 46
        }
      ]
    },
    {
      "cell_type": "code",
      "metadata": {
        "colab": {
          "base_uri": "https://localhost:8080/"
        },
        "id": "nAIN6wJoj8CJ",
        "outputId": "6c696890-679f-4a53-df5c-8f1be7d9e3d2"
      },
      "source": [
        "model.score(x_test , y_test)"
      ],
      "execution_count": 49,
      "outputs": [
        {
          "output_type": "execute_result",
          "data": {
            "text/plain": [
              "0.570954870212099"
            ]
          },
          "metadata": {
            "tags": []
          },
          "execution_count": 49
        }
      ]
    },
    {
      "cell_type": "code",
      "metadata": {
        "id": "OFA7quoaj_5X"
      },
      "source": [
        ""
      ],
      "execution_count": null,
      "outputs": []
    }
  ]
}