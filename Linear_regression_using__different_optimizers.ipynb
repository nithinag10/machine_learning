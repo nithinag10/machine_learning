{
  "nbformat": 4,
  "nbformat_minor": 0,
  "metadata": {
    "colab": {
      "name": "Linear_regression_using _different_optimizers.ipynb",
      "provenance": [],
      "collapsed_sections": [
        "IgnVImdNqdjy",
        "i7gLwtQfqOR3"
      ],
      "toc_visible": true,
      "authorship_tag": "ABX9TyNvEbiyhfVTC6yfzR+8jluO",
      "include_colab_link": true
    },
    "kernelspec": {
      "name": "python3",
      "display_name": "Python 3"
    },
    "language_info": {
      "name": "python"
    }
  },
  "cells": [
    {
      "cell_type": "markdown",
      "metadata": {
        "id": "view-in-github",
        "colab_type": "text"
      },
      "source": [
        "<a href=\"https://colab.research.google.com/github/nithinag10/machine_learning/blob/main/Linear_regression_using__different_optimizers.ipynb\" target=\"_parent\"><img src=\"https://colab.research.google.com/assets/colab-badge.svg\" alt=\"Open In Colab\"/></a>"
      ]
    },
    {
      "cell_type": "code",
      "metadata": {
        "id": "iZRS43jho0XT"
      },
      "source": [
        "import pandas as pd"
      ],
      "execution_count": 1,
      "outputs": []
    },
    {
      "cell_type": "code",
      "metadata": {
        "id": "XvuC1DeepEKt"
      },
      "source": [
        "import numpy as np"
      ],
      "execution_count": 2,
      "outputs": []
    },
    {
      "cell_type": "code",
      "metadata": {
        "id": "EB6IGmriTkWl"
      },
      "source": [
        "import seaborn as sns\n",
        "import matplotlib.pyplot as plt"
      ],
      "execution_count": 8,
      "outputs": []
    },
    {
      "cell_type": "markdown",
      "metadata": {
        "id": "IgnVImdNqdjy"
      },
      "source": [
        "# Data Reading"
      ]
    },
    {
      "cell_type": "code",
      "metadata": {
        "id": "h3UCYdDIpF78"
      },
      "source": [
        "df = pd.read_csv('CarPrice_Assignment.csv')"
      ],
      "execution_count": 5,
      "outputs": []
    },
    {
      "cell_type": "code",
      "metadata": {
        "colab": {
          "base_uri": "https://localhost:8080/",
          "height": 275
        },
        "id": "0UGyL679pkdK",
        "outputId": "a92cd9ae-b8c0-48d7-d671-46de898df6ea"
      },
      "source": [
        "df.head()"
      ],
      "execution_count": 6,
      "outputs": [
        {
          "output_type": "execute_result",
          "data": {
            "text/html": [
              "<div>\n",
              "<style scoped>\n",
              "    .dataframe tbody tr th:only-of-type {\n",
              "        vertical-align: middle;\n",
              "    }\n",
              "\n",
              "    .dataframe tbody tr th {\n",
              "        vertical-align: top;\n",
              "    }\n",
              "\n",
              "    .dataframe thead th {\n",
              "        text-align: right;\n",
              "    }\n",
              "</style>\n",
              "<table border=\"1\" class=\"dataframe\">\n",
              "  <thead>\n",
              "    <tr style=\"text-align: right;\">\n",
              "      <th></th>\n",
              "      <th>car_ID</th>\n",
              "      <th>symboling</th>\n",
              "      <th>CarName</th>\n",
              "      <th>fueltype</th>\n",
              "      <th>aspiration</th>\n",
              "      <th>doornumber</th>\n",
              "      <th>carbody</th>\n",
              "      <th>drivewheel</th>\n",
              "      <th>enginelocation</th>\n",
              "      <th>wheelbase</th>\n",
              "      <th>carlength</th>\n",
              "      <th>carwidth</th>\n",
              "      <th>carheight</th>\n",
              "      <th>curbweight</th>\n",
              "      <th>enginetype</th>\n",
              "      <th>cylindernumber</th>\n",
              "      <th>enginesize</th>\n",
              "      <th>fuelsystem</th>\n",
              "      <th>boreratio</th>\n",
              "      <th>stroke</th>\n",
              "      <th>compressionratio</th>\n",
              "      <th>horsepower</th>\n",
              "      <th>peakrpm</th>\n",
              "      <th>citympg</th>\n",
              "      <th>highwaympg</th>\n",
              "      <th>price</th>\n",
              "    </tr>\n",
              "  </thead>\n",
              "  <tbody>\n",
              "    <tr>\n",
              "      <th>0</th>\n",
              "      <td>1</td>\n",
              "      <td>3</td>\n",
              "      <td>alfa-romero giulia</td>\n",
              "      <td>gas</td>\n",
              "      <td>std</td>\n",
              "      <td>two</td>\n",
              "      <td>convertible</td>\n",
              "      <td>rwd</td>\n",
              "      <td>front</td>\n",
              "      <td>88.6</td>\n",
              "      <td>168.8</td>\n",
              "      <td>64.1</td>\n",
              "      <td>48.8</td>\n",
              "      <td>2548</td>\n",
              "      <td>dohc</td>\n",
              "      <td>four</td>\n",
              "      <td>130</td>\n",
              "      <td>mpfi</td>\n",
              "      <td>3.47</td>\n",
              "      <td>2.68</td>\n",
              "      <td>9.0</td>\n",
              "      <td>111</td>\n",
              "      <td>5000</td>\n",
              "      <td>21</td>\n",
              "      <td>27</td>\n",
              "      <td>13495.0</td>\n",
              "    </tr>\n",
              "    <tr>\n",
              "      <th>1</th>\n",
              "      <td>2</td>\n",
              "      <td>3</td>\n",
              "      <td>alfa-romero stelvio</td>\n",
              "      <td>gas</td>\n",
              "      <td>std</td>\n",
              "      <td>two</td>\n",
              "      <td>convertible</td>\n",
              "      <td>rwd</td>\n",
              "      <td>front</td>\n",
              "      <td>88.6</td>\n",
              "      <td>168.8</td>\n",
              "      <td>64.1</td>\n",
              "      <td>48.8</td>\n",
              "      <td>2548</td>\n",
              "      <td>dohc</td>\n",
              "      <td>four</td>\n",
              "      <td>130</td>\n",
              "      <td>mpfi</td>\n",
              "      <td>3.47</td>\n",
              "      <td>2.68</td>\n",
              "      <td>9.0</td>\n",
              "      <td>111</td>\n",
              "      <td>5000</td>\n",
              "      <td>21</td>\n",
              "      <td>27</td>\n",
              "      <td>16500.0</td>\n",
              "    </tr>\n",
              "    <tr>\n",
              "      <th>2</th>\n",
              "      <td>3</td>\n",
              "      <td>1</td>\n",
              "      <td>alfa-romero Quadrifoglio</td>\n",
              "      <td>gas</td>\n",
              "      <td>std</td>\n",
              "      <td>two</td>\n",
              "      <td>hatchback</td>\n",
              "      <td>rwd</td>\n",
              "      <td>front</td>\n",
              "      <td>94.5</td>\n",
              "      <td>171.2</td>\n",
              "      <td>65.5</td>\n",
              "      <td>52.4</td>\n",
              "      <td>2823</td>\n",
              "      <td>ohcv</td>\n",
              "      <td>six</td>\n",
              "      <td>152</td>\n",
              "      <td>mpfi</td>\n",
              "      <td>2.68</td>\n",
              "      <td>3.47</td>\n",
              "      <td>9.0</td>\n",
              "      <td>154</td>\n",
              "      <td>5000</td>\n",
              "      <td>19</td>\n",
              "      <td>26</td>\n",
              "      <td>16500.0</td>\n",
              "    </tr>\n",
              "    <tr>\n",
              "      <th>3</th>\n",
              "      <td>4</td>\n",
              "      <td>2</td>\n",
              "      <td>audi 100 ls</td>\n",
              "      <td>gas</td>\n",
              "      <td>std</td>\n",
              "      <td>four</td>\n",
              "      <td>sedan</td>\n",
              "      <td>fwd</td>\n",
              "      <td>front</td>\n",
              "      <td>99.8</td>\n",
              "      <td>176.6</td>\n",
              "      <td>66.2</td>\n",
              "      <td>54.3</td>\n",
              "      <td>2337</td>\n",
              "      <td>ohc</td>\n",
              "      <td>four</td>\n",
              "      <td>109</td>\n",
              "      <td>mpfi</td>\n",
              "      <td>3.19</td>\n",
              "      <td>3.40</td>\n",
              "      <td>10.0</td>\n",
              "      <td>102</td>\n",
              "      <td>5500</td>\n",
              "      <td>24</td>\n",
              "      <td>30</td>\n",
              "      <td>13950.0</td>\n",
              "    </tr>\n",
              "    <tr>\n",
              "      <th>4</th>\n",
              "      <td>5</td>\n",
              "      <td>2</td>\n",
              "      <td>audi 100ls</td>\n",
              "      <td>gas</td>\n",
              "      <td>std</td>\n",
              "      <td>four</td>\n",
              "      <td>sedan</td>\n",
              "      <td>4wd</td>\n",
              "      <td>front</td>\n",
              "      <td>99.4</td>\n",
              "      <td>176.6</td>\n",
              "      <td>66.4</td>\n",
              "      <td>54.3</td>\n",
              "      <td>2824</td>\n",
              "      <td>ohc</td>\n",
              "      <td>five</td>\n",
              "      <td>136</td>\n",
              "      <td>mpfi</td>\n",
              "      <td>3.19</td>\n",
              "      <td>3.40</td>\n",
              "      <td>8.0</td>\n",
              "      <td>115</td>\n",
              "      <td>5500</td>\n",
              "      <td>18</td>\n",
              "      <td>22</td>\n",
              "      <td>17450.0</td>\n",
              "    </tr>\n",
              "  </tbody>\n",
              "</table>\n",
              "</div>"
            ],
            "text/plain": [
              "   car_ID  symboling                   CarName  ... citympg highwaympg    price\n",
              "0       1          3        alfa-romero giulia  ...      21         27  13495.0\n",
              "1       2          3       alfa-romero stelvio  ...      21         27  16500.0\n",
              "2       3          1  alfa-romero Quadrifoglio  ...      19         26  16500.0\n",
              "3       4          2               audi 100 ls  ...      24         30  13950.0\n",
              "4       5          2                audi 100ls  ...      18         22  17450.0\n",
              "\n",
              "[5 rows x 26 columns]"
            ]
          },
          "metadata": {
            "tags": []
          },
          "execution_count": 6
        }
      ]
    },
    {
      "cell_type": "markdown",
      "metadata": {
        "id": "i7gLwtQfqOR3"
      },
      "source": [
        "# Data Visualisation\n"
      ]
    },
    {
      "cell_type": "code",
      "metadata": {
        "colab": {
          "base_uri": "https://localhost:8080/"
        },
        "id": "-gPzU6tWpqJS",
        "outputId": "ad134a1e-45a0-4061-b5fb-b7bd242e6dc5"
      },
      "source": [
        "df.info()"
      ],
      "execution_count": null,
      "outputs": [
        {
          "output_type": "stream",
          "text": [
            "<class 'pandas.core.frame.DataFrame'>\n",
            "RangeIndex: 205 entries, 0 to 204\n",
            "Data columns (total 26 columns):\n",
            " #   Column            Non-Null Count  Dtype  \n",
            "---  ------            --------------  -----  \n",
            " 0   car_ID            205 non-null    int64  \n",
            " 1   symboling         205 non-null    int64  \n",
            " 2   CarName           205 non-null    object \n",
            " 3   fueltype          205 non-null    object \n",
            " 4   aspiration        205 non-null    object \n",
            " 5   doornumber        205 non-null    object \n",
            " 6   carbody           205 non-null    object \n",
            " 7   drivewheel        205 non-null    object \n",
            " 8   enginelocation    205 non-null    object \n",
            " 9   wheelbase         205 non-null    float64\n",
            " 10  carlength         205 non-null    float64\n",
            " 11  carwidth          205 non-null    float64\n",
            " 12  carheight         205 non-null    float64\n",
            " 13  curbweight        205 non-null    int64  \n",
            " 14  enginetype        205 non-null    object \n",
            " 15  cylindernumber    205 non-null    object \n",
            " 16  enginesize        205 non-null    int64  \n",
            " 17  fuelsystem        205 non-null    object \n",
            " 18  boreratio         205 non-null    float64\n",
            " 19  stroke            205 non-null    float64\n",
            " 20  compressionratio  205 non-null    float64\n",
            " 21  horsepower        205 non-null    int64  \n",
            " 22  peakrpm           205 non-null    int64  \n",
            " 23  citympg           205 non-null    int64  \n",
            " 24  highwaympg        205 non-null    int64  \n",
            " 25  price             205 non-null    float64\n",
            "dtypes: float64(8), int64(8), object(10)\n",
            "memory usage: 41.8+ KB\n"
          ],
          "name": "stdout"
        }
      ]
    },
    {
      "cell_type": "code",
      "metadata": {
        "colab": {
          "base_uri": "https://localhost:8080/"
        },
        "id": "jJ5unxJOqkeo",
        "outputId": "0ae477b1-1ab9-417d-e010-269f2aaec729"
      },
      "source": [
        "df.isnull().sum()"
      ],
      "execution_count": null,
      "outputs": [
        {
          "output_type": "execute_result",
          "data": {
            "text/plain": [
              "car_ID              0\n",
              "symboling           0\n",
              "CarName             0\n",
              "fueltype            0\n",
              "aspiration          0\n",
              "doornumber          0\n",
              "carbody             0\n",
              "drivewheel          0\n",
              "enginelocation      0\n",
              "wheelbase           0\n",
              "carlength           0\n",
              "carwidth            0\n",
              "carheight           0\n",
              "curbweight          0\n",
              "enginetype          0\n",
              "cylindernumber      0\n",
              "enginesize          0\n",
              "fuelsystem          0\n",
              "boreratio           0\n",
              "stroke              0\n",
              "compressionratio    0\n",
              "horsepower          0\n",
              "peakrpm             0\n",
              "citympg             0\n",
              "highwaympg          0\n",
              "price               0\n",
              "dtype: int64"
            ]
          },
          "metadata": {
            "tags": []
          },
          "execution_count": 112
        }
      ]
    },
    {
      "cell_type": "code",
      "metadata": {
        "colab": {
          "base_uri": "https://localhost:8080/"
        },
        "id": "zClJ9aIOqz4f",
        "outputId": "ba0d35c3-af0b-4c6a-ee49-ceba214add50"
      },
      "source": [
        "df.price.head()"
      ],
      "execution_count": null,
      "outputs": [
        {
          "output_type": "execute_result",
          "data": {
            "text/plain": [
              "0    13495.0\n",
              "1    16500.0\n",
              "2    16500.0\n",
              "3    13950.0\n",
              "4    17450.0\n",
              "Name: price, dtype: float64"
            ]
          },
          "metadata": {
            "tags": []
          },
          "execution_count": 113
        }
      ]
    },
    {
      "cell_type": "code",
      "metadata": {
        "id": "e09VYamsrko2"
      },
      "source": [
        "car_companies = df['CarName'].str.split(\" \").str[0].unique()"
      ],
      "execution_count": null,
      "outputs": []
    },
    {
      "cell_type": "code",
      "metadata": {
        "colab": {
          "base_uri": "https://localhost:8080/"
        },
        "id": "Lo0ykESGs6tM",
        "outputId": "b1f73490-fb18-4d88-b3e6-8bc7ab12f50c"
      },
      "source": [
        "car_companies_count = []\n",
        "for i in car_companies:\n",
        "  car_companies_count.append(len((df['CarName'].str.split(\" \").str[0] == i )))\n",
        "print(car_companies_count)"
      ],
      "execution_count": null,
      "outputs": [
        {
          "output_type": "stream",
          "text": [
            "[205, 205, 205, 205, 205, 205, 205, 205, 205, 205, 205, 205, 205, 205, 205, 205, 205, 205, 205, 205, 205, 205, 205, 205, 205, 205, 205, 205]\n"
          ],
          "name": "stdout"
        }
      ]
    },
    {
      "cell_type": "code",
      "metadata": {
        "colab": {
          "base_uri": "https://localhost:8080/"
        },
        "id": "Wq2wl-hkt-oL",
        "outputId": "c65c2bc9-48b7-4977-e676-748f393a9d4a"
      },
      "source": [
        "df['fueltype'].unique()\n"
      ],
      "execution_count": null,
      "outputs": [
        {
          "output_type": "execute_result",
          "data": {
            "text/plain": [
              "array(['gas', 'diesel'], dtype=object)"
            ]
          },
          "metadata": {
            "tags": []
          },
          "execution_count": 115
        }
      ]
    },
    {
      "cell_type": "code",
      "metadata": {
        "colab": {
          "base_uri": "https://localhost:8080/",
          "height": 362
        },
        "id": "oYEcmsaswJpH",
        "outputId": "a28cb344-d616-479c-a184-ae4d8ee9df01"
      },
      "source": [
        "\n",
        "  \n",
        "# plotting correlation heatmap\n",
        "dataplot = sns.heatmap(df.corr())\n",
        "plt.figure(figsize=(30,30))\n",
        "# displaying heatma\n",
        "plt.show()"
      ],
      "execution_count": null,
      "outputs": [
        {
          "output_type": "display_data",
          "data": {
            "image/png": "[encoded data removed]",
            "text/plain": [
              "<Figure size 432x288 with 2 Axes>"
            ]
          },
          "metadata": {
            "tags": [],
            "needs_background": "light"
          }
        },
        {
          "output_type": "display_data",
          "data": {
            "text/plain": [
              "<Figure size 2160x2160 with 0 Axes>"
            ]
          },
          "metadata": {
            "tags": []
          }
        }
      ]
    },
    {
      "cell_type": "code",
      "metadata": {
        "colab": {
          "base_uri": "https://localhost:8080/"
        },
        "id": "yLlAqkFS3kqe",
        "outputId": "d5e3343f-390e-47ed-fa51-38c0d604a4fb"
      },
      "source": [
        "# gas car average price\n",
        "n = len(df.loc[df['fueltype'] == 'gas'].price)\n",
        "sum = df.loc[df['fueltype'] == 'gas'].price.sum()\n",
        "average_gas = sum/n\n",
        "average_gas = round(average_gas)"
      ],
      "execution_count": null,
      "outputs": [
        {
          "output_type": "execute_result",
          "data": {
            "text/plain": [
              "13000"
            ]
          },
          "metadata": {
            "tags": []
          },
          "execution_count": 147
        }
      ]
    },
    {
      "cell_type": "code",
      "metadata": {
        "id": "EsaGUXSu3zbH"
      },
      "source": [
        "# diesel car average price\n",
        "n = len(df.loc[df['fueltype'] == 'diesel'].price)\n",
        "sum = df.loc[df['fueltype'] == 'diesel'].price.sum()\n",
        "average_diesel = sum/n\n",
        "average_diesel = round(average_diesel)\n"
      ],
      "execution_count": null,
      "outputs": []
    },
    {
      "cell_type": "code",
      "metadata": {
        "colab": {
          "base_uri": "https://localhost:8080/"
        },
        "id": "fO30a65_6bl0",
        "outputId": "14e56f6d-83d2-401d-aff9-604ee285b170"
      },
      "source": [
        "average_diesel"
      ],
      "execution_count": null,
      "outputs": [
        {
          "output_type": "execute_result",
          "data": {
            "text/plain": [
              "15838"
            ]
          },
          "metadata": {
            "tags": []
          },
          "execution_count": 148
        }
      ]
    },
    {
      "cell_type": "code",
      "metadata": {
        "colab": {
          "base_uri": "https://localhost:8080/",
          "height": 279
        },
        "id": "zMDLUMYh6nMK",
        "outputId": "a12b6dfb-cfb9-419a-a11c-d72223e17d95"
      },
      "source": [
        "sns.barplot(x= ['Gas' , 'Diesel'] ,y=[average_gas , average_diesel])\n",
        "plt.xlabel('Type of car')\n",
        "plt.ylabel(\"Average cost in dollars\")\n",
        "plt.show()"
      ],
      "execution_count": null,
      "outputs": [
        {
          "output_type": "display_data",
          "data": {
            "image/png": "[encoded data removed]",
            "text/plain": [
              "<Figure size 432x288 with 1 Axes>"
            ]
          },
          "metadata": {
            "tags": [],
            "needs_background": "light"
          }
        }
      ]
    },
    {
      "cell_type": "code",
      "metadata": {
        "id": "kmK8-0DO727f"
      },
      "source": [
        "val = df['drivewheel'].value_counts()"
      ],
      "execution_count": null,
      "outputs": []
    },
    {
      "cell_type": "code",
      "metadata": {
        "id": "k51Sfwal9IB4",
        "colab": {
          "base_uri": "https://localhost:8080/"
        },
        "outputId": "32b0285b-ab51-4df9-fbd1-c3a48973aad5"
      },
      "source": [
        "val"
      ],
      "execution_count": null,
      "outputs": [
        {
          "output_type": "execute_result",
          "data": {
            "text/plain": [
              "fwd    120\n",
              "rwd     76\n",
              "4wd      9\n",
              "Name: drivewheel, dtype: int64"
            ]
          },
          "metadata": {
            "tags": []
          },
          "execution_count": 159
        }
      ]
    },
    {
      "cell_type": "code",
      "metadata": {
        "id": "fr-931BKJsdI"
      },
      "source": [
        "# fwd car average price\n",
        "n = len(df.loc[df['drivewheel'] == 'fwd'].price)\n",
        "sum = df.loc[df['drivewheel'] == 'fwd'].price.sum()\n",
        "average_fwd = sum/n\n",
        "average_fwd = round(average_fwd)\n",
        "# rwd car average price\n",
        "n = len(df.loc[df['drivewheel'] == 'rwd'].price)\n",
        "sum = df.loc[df['drivewheel'] == 'rwd'].price.sum()\n",
        "average_rwd = sum/n\n",
        "average_rwd = round(average_rwd)\n",
        "# 4wd car average price\n",
        "n = len(df.loc[df['drivewheel'] == '4wd'].price)\n",
        "sum = df.loc[df['drivewheel'] == '4wd'].price.sum()\n",
        "average_4wd = sum/n\n",
        "average_4wd = round(average_4wd)"
      ],
      "execution_count": null,
      "outputs": []
    },
    {
      "cell_type": "code",
      "metadata": {
        "colab": {
          "base_uri": "https://localhost:8080/",
          "height": 279
        },
        "id": "lOwLQ_F2KVYO",
        "outputId": "aec403e2-5489-411f-a850-4698e253142d"
      },
      "source": [
        "sns.barplot(x= ['fwd' , 'rwd' , '4wd'] ,y=[average_fwd ,average_rwd , average_4wd])\n",
        "plt.xlabel('Type of drive wheel')\n",
        "plt.ylabel(\"Average cost in dollars\")\n",
        "plt.show()"
      ],
      "execution_count": null,
      "outputs": [
        {
          "output_type": "display_data",
          "data": {
            "image/png": "[encoded data removed]",
            "text/plain": [
              "<Figure size 432x288 with 1 Axes>"
            ]
          },
          "metadata": {
            "tags": [],
            "needs_background": "light"
          }
        }
      ]
    },
    {
      "cell_type": "code",
      "metadata": {
        "id": "ze1K0vssKjBe"
      },
      "source": [
        "fuel_system_label = df['fuelsystem'].unique()\n",
        "fuel_system_average_price = []"
      ],
      "execution_count": null,
      "outputs": []
    },
    {
      "cell_type": "code",
      "metadata": {
        "id": "4In92MOCK-fr"
      },
      "source": [
        "for fuel_system in fuel_system_label:\n",
        "  n = len(df.loc[df['fuelsystem'] == fuel_system].price)\n",
        "  sum = df.loc[df['fuelsystem'] == fuel_system].price.sum()\n",
        "  fuel_system_average_price.append(round(sum/n))\n"
      ],
      "execution_count": null,
      "outputs": []
    },
    {
      "cell_type": "code",
      "metadata": {
        "colab": {
          "base_uri": "https://localhost:8080/",
          "height": 279
        },
        "id": "28EbV_G4LwKM",
        "outputId": "c3525b8b-787d-4a3e-f7cd-268b1fa2ccb6"
      },
      "source": [
        "sns.barplot(x= fuel_system_label ,y=fuel_system_average_price)\n",
        "plt.xlabel('Fuel System type')\n",
        "plt.ylabel(\"Average cost in dollars\")\n",
        "plt.show()"
      ],
      "execution_count": null,
      "outputs": [
        {
          "output_type": "display_data",
          "data": {
            "image/png": "[encoded data removed]",
            "text/plain": [
              "<Figure size 432x288 with 1 Axes>"
            ]
          },
          "metadata": {
            "tags": [],
            "needs_background": "light"
          }
        }
      ]
    },
    {
      "cell_type": "markdown",
      "metadata": {
        "id": "6NqSk8WjMsbo"
      },
      "source": [
        "# Feature extraction and scaling"
      ]
    },
    {
      "cell_type": "code",
      "metadata": {
        "colab": {
          "base_uri": "https://localhost:8080/"
        },
        "id": "7-MpCN_gMxO-",
        "outputId": "5f1700d1-aa0b-4b84-9447-a9fef2e05e04"
      },
      "source": [
        "correlation = df.corr()\n",
        "print(correlation['price'])"
      ],
      "execution_count": 9,
      "outputs": [
        {
          "output_type": "stream",
          "text": [
            "car_ID             -0.109093\n",
            "symboling          -0.079978\n",
            "wheelbase           0.577816\n",
            "carlength           0.682920\n",
            "carwidth            0.759325\n",
            "carheight           0.119336\n",
            "curbweight          0.835305\n",
            "enginesize          0.874145\n",
            "boreratio           0.553173\n",
            "stroke              0.079443\n",
            "compressionratio    0.067984\n",
            "horsepower          0.808139\n",
            "peakrpm            -0.085267\n",
            "citympg            -0.685751\n",
            "highwaympg         -0.697599\n",
            "price               1.000000\n",
            "Name: price, dtype: float64\n"
          ],
          "name": "stdout"
        }
      ]
    },
    {
      "cell_type": "code",
      "metadata": {
        "id": "COZuwqxROrpA"
      },
      "source": [
        "# Engine size depends on the vehicle price the most\n",
        "df_corr = correlation['price'].tolist()"
      ],
      "execution_count": null,
      "outputs": []
    },
    {
      "cell_type": "code",
      "metadata": {
        "colab": {
          "base_uri": "https://localhost:8080/"
        },
        "id": "KQg3mxWAOv_F",
        "outputId": "a5ea6515-b483-4f15-be17-9ea83ad5c5ce"
      },
      "source": [
        "correlation['price']>=0.70"
      ],
      "execution_count": null,
      "outputs": [
        {
          "output_type": "execute_result",
          "data": {
            "text/plain": [
              "car_ID              False\n",
              "symboling           False\n",
              "wheelbase           False\n",
              "carlength           False\n",
              "carwidth             True\n",
              "carheight           False\n",
              "curbweight           True\n",
              "enginesize           True\n",
              "boreratio           False\n",
              "stroke              False\n",
              "compressionratio    False\n",
              "horsepower           True\n",
              "peakrpm             False\n",
              "citympg             False\n",
              "highwaympg          False\n",
              "price                True\n",
              "Name: price, dtype: bool"
            ]
          },
          "metadata": {
            "tags": []
          },
          "execution_count": 216
        }
      ]
    },
    {
      "cell_type": "code",
      "metadata": {
        "id": "6KEebYsfRQDJ"
      },
      "source": [
        "# consider which is true\n",
        "features = ['curbweight' ,'enginesize' , 'horsepower' , 'carwidth']"
      ],
      "execution_count": 10,
      "outputs": []
    },
    {
      "cell_type": "code",
      "metadata": {
        "colab": {
          "base_uri": "https://localhost:8080/"
        },
        "id": "avqgHHt4S_qU",
        "outputId": "2c95311f-d34e-4d64-dcb4-ec8df742aaf2"
      },
      "source": [
        "print(df['curbweight'].max())\n",
        "print(df['curbweight'].min())"
      ],
      "execution_count": 11,
      "outputs": [
        {
          "output_type": "stream",
          "text": [
            "4066\n",
            "1488\n"
          ],
          "name": "stdout"
        }
      ]
    },
    {
      "cell_type": "code",
      "metadata": {
        "colab": {
          "base_uri": "https://localhost:8080/"
        },
        "id": "H2BUOlopTWZd",
        "outputId": "4506978b-c63e-407e-a327-1f4d8b97cdbc"
      },
      "source": [
        "print(df['enginesize'].max())\n",
        "print(df['enginesize'].min())"
      ],
      "execution_count": 12,
      "outputs": [
        {
          "output_type": "stream",
          "text": [
            "326\n",
            "61\n"
          ],
          "name": "stdout"
        }
      ]
    },
    {
      "cell_type": "code",
      "metadata": {
        "colab": {
          "base_uri": "https://localhost:8080/"
        },
        "id": "LGZdchaPTnBk",
        "outputId": "0103d405-14f1-43f8-8ae9-b2a925b85ae6"
      },
      "source": [
        "print(df['horsepower'].max())\n",
        "print(df['horsepower'].min())"
      ],
      "execution_count": 13,
      "outputs": [
        {
          "output_type": "stream",
          "text": [
            "288\n",
            "48\n"
          ],
          "name": "stdout"
        }
      ]
    },
    {
      "cell_type": "code",
      "metadata": {
        "colab": {
          "base_uri": "https://localhost:8080/"
        },
        "id": "A7ildlxQTr8T",
        "outputId": "f318a0e3-eba5-4849-b9d5-ef358d43e1b8"
      },
      "source": [
        "print(df['carwidth'].max())\n",
        "print(df['carwidth'].min())"
      ],
      "execution_count": 14,
      "outputs": [
        {
          "output_type": "stream",
          "text": [
            "72.3\n",
            "60.3\n"
          ],
          "name": "stdout"
        }
      ]
    },
    {
      "cell_type": "code",
      "metadata": {
        "id": "J5Dqjvi8Tv4F"
      },
      "source": [
        "def min_max_scaler(x):\n",
        "  x_min = x.min()\n",
        "  x_max = x.max()\n",
        "  return (x - x_min) / (x_max-x_min)\n"
      ],
      "execution_count": 16,
      "outputs": []
    },
    {
      "cell_type": "code",
      "metadata": {
        "id": "ZTsgSPBAWW_-"
      },
      "source": [
        "X = df[['curbweight', 'enginesize' , 'horsepower', 'carwidth']]"
      ],
      "execution_count": 17,
      "outputs": []
    },
    {
      "cell_type": "code",
      "metadata": {
        "id": "VVFkxBuMWhXf"
      },
      "source": [
        "Y = df['price']"
      ],
      "execution_count": 18,
      "outputs": []
    },
    {
      "cell_type": "code",
      "metadata": {
        "id": "Fqm1qshnW4uW"
      },
      "source": [
        "x_f1 = min_max_scaler(X['curbweight']).to_numpy()\n",
        "x_f2 = min_max_scaler(X['enginesize']).to_numpy()\n",
        "x_f3 = min_max_scaler(X['horsepower']).to_numpy()\n",
        "x_f4 = min_max_scaler(X['carwidth']).to_numpy()"
      ],
      "execution_count": 19,
      "outputs": []
    },
    {
      "cell_type": "code",
      "metadata": {
        "id": "UBJJ3UhWXDCe"
      },
      "source": [
        "y = min_max_scaler(Y).to_numpy().reshape(-1 ,1)"
      ],
      "execution_count": 37,
      "outputs": []
    },
    {
      "cell_type": "code",
      "metadata": {
        "colab": {
          "base_uri": "https://localhost:8080/"
        },
        "id": "uFAnVKpSX68M",
        "outputId": "0a175181-9859-4ff5-a6f7-8e64bd4e7c2a"
      },
      "source": [
        "X = np.vstack((x_f1 , x_f2 , x_f3 , x_f4))\n",
        "print(X.shape)"
      ],
      "execution_count": 21,
      "outputs": [
        {
          "output_type": "stream",
          "text": [
            "(4, 205)\n"
          ],
          "name": "stdout"
        }
      ]
    },
    {
      "cell_type": "markdown",
      "metadata": {
        "id": "QYtGyoTFYbb6"
      },
      "source": [
        "# Gradient descent"
      ]
    },
    {
      "cell_type": "code",
      "metadata": {
        "id": "YKdrLI5NYiF7"
      },
      "source": [
        "def gradient_descent(X, y , learning_rate , epochs):\n",
        "  cost_history = []\n",
        "  w = np.ones((X.shape[0] ,1))\n",
        "  b = 0\n",
        "  n = len(y)\n",
        "  for epoch in range(epochs):\n",
        "    hypothesis = np.dot(X.T , w) + b\n",
        "    loss = y - hypothesis\n",
        "    w_grad = (-2/n) * np.dot(X , loss)\n",
        "    b_grad = (-2/n) * np.sum(y - hypothesis)\n",
        "    w = w - (learning_rate * w_grad)\n",
        "    b = b - (learning_rate * b_grad)\n",
        "    cost = np.mean(np.square(y - hypothesis))\n",
        "    cost_history.append(cost)\n",
        "  return cost_history , w, b"
      ],
      "execution_count": 30,
      "outputs": []
    },
    {
      "cell_type": "code",
      "metadata": {
        "id": "pFTWWSXOaaTo",
        "colab": {
          "base_uri": "https://localhost:8080/"
        },
        "outputId": "31fb1e89-83f8-41c0-9fd7-ec8fbbd61aaf"
      },
      "source": [
        "history , w, b = gradient_descent(X , y , 0.01, 100)\n",
        "print(history)"
      ],
      "execution_count": 39,
      "outputs": [
        {
          "output_type": "stream",
          "text": [
            "[1.571217282234709, 1.480771248635781, 1.3958040330129096, 1.3159830318034296, 1.2409958348686891, 1.1705489994812763, 1.104366898747744, 1.0421906399475964, 0.9837770485436846, 0.9288977138768577, 0.8773380927998174, 0.8288966677324797, 0.78338415583472, 0.7406227661929972, 0.7004455021057591, 0.6626955057295291, 0.6272254425138083, 0.5938969230090757, 0.5625799597788369, 0.533152457284431, 0.5054997327407044, 0.4795140660622056, 0.45509427713370854, 0.43214532874611566, 0.41057795363950256, 0.3903083041896749, 0.3712576233634752, 0.35335193565153544, 0.3365217567655782, 0.32070182096100336, 0.30583082491466895, 0.29185118715274266, 0.2787088220845255, 0.2663529277554656, 0.25473578648642736, 0.24381257761684114, 0.23354120161686848, 0.2238821148783292, 0.2147981745360449, 0.20625449271061852, 0.19821829960064105, 0.1906588148870462, 0.18354712694495368, 0.17685607938898065, 0.17056016450678219, 0.1646354231626109, 0.15905935077807937, 0.15381080902115749, 0.14886994285683677, 0.14421810263393708, 0.13983777090229385, 0.13571249367312785, 0.13182681585283637, 0.12816622059682295, 0.12471707234536687, 0.12146656331798193, 0.11840266325628897, 0.1155140722181722, 0.11279017623796654, 0.11022100567866806, 0.10779719611272635, 0.10550995157789964, 0.10335101006397382, 0.10131261109490221, 0.09938746527914627, 0.09756872570872012, 0.0958499610946978, 0.09422513053375718, 0.09268855980673377, 0.09123491911617164, 0.089859202175504, 0.088556706567802, 0.08732301529701184, 0.0861539794592793, 0.08504570196635858, 0.08399452225722828, 0.08299700193791838, 0.08204991129319235, 0.08115021661715145, 0.08029506831304159, 0.0794817897155616, 0.07870786659180765, 0.07797093727965113, 0.07726878342484932, 0.07659932128053787, 0.07596059353496064, 0.07535076163536587, 0.07476809857794486, 0.07421098213551804, 0.07367788849639095, 0.07316738628941699, 0.0726781309718189, 0.07220885955774442, 0.07175838566686901, 0.07132559487361485, 0.07090944033873414, 0.07050893870611363, 0.07012316624869787, 0.06975125524840647, 0.06939239059583824]\n"
          ],
          "name": "stdout"
        }
      ]
    },
    {
      "cell_type": "code",
      "metadata": {
        "colab": {
          "base_uri": "https://localhost:8080/",
          "height": 295
        },
        "id": "C3Kwu5vrafNP",
        "outputId": "4f5f82d2-ee84-4b40-a5c0-57167a2f9242"
      },
      "source": [
        "plt.plot(range(100) , history)\n",
        "plt.title(\"Gradient descent\")\n",
        "plt.xlabel('Epochs')\n",
        "plt.ylabel(\"Cost\")\n",
        "plt.show()"
      ],
      "execution_count": 125,
      "outputs": [
        {
          "output_type": "display_data",
          "data": {
            "image/png": "[encoded data removed]",
            "text/plain": [
              "<Figure size 432x288 with 1 Axes>"
            ]
          },
          "metadata": {
            "tags": [],
            "needs_background": "light"
          }
        }
      ]
    },
    {
      "cell_type": "markdown",
      "metadata": {
        "id": "1LrT5XZ3jksG"
      },
      "source": [
        "# Stochastic Gradient Descent"
      ]
    },
    {
      "cell_type": "code",
      "metadata": {
        "id": "cOCpDmVikat1"
      },
      "source": [
        "import random"
      ],
      "execution_count": 129,
      "outputs": []
    },
    {
      "cell_type": "code",
      "metadata": {
        "id": "kOfWlKICbac-"
      },
      "source": [
        "def stochastic_gradient_descent(X, y , learning_rate , epochs):\n",
        "  cost_history = []\n",
        "  w = np.ones((X.shape[0] ,1))\n",
        "  b = 0\n",
        "  n = len(y)\n",
        "  for epoch in range(epochs):\n",
        "    rand = random.randint(0, len(y)-1)\n",
        "    x_sample = X.T[rand].reshape(-1 , 1)\n",
        "    y_sample = y[rand].reshape(-1 , 1)\n",
        "    hypothesis = np.dot(x_sample.T , w) + b\n",
        "    loss = y_sample - hypothesis\n",
        "    w_grad = (-2/n) * np.dot(x_sample , loss)\n",
        "    b_grad = (-2/n) * (y_sample - hypothesis)\n",
        "    w = w - (learning_rate * w_grad)\n",
        "    b = b - (learning_rate * b_grad)\n",
        "    if epoch%100==0:\n",
        "      cost = (y_sample - hypothesis) ** 2\n",
        "      cost_history.append(float(cost))\n",
        "\n",
        "  return cost_history , w, b"
      ],
      "execution_count": 130,
      "outputs": []
    },
    {
      "cell_type": "code",
      "metadata": {
        "colab": {
          "base_uri": "https://localhost:8080/"
        },
        "id": "1Iw2BC1ZcRLW",
        "outputId": "893f4552-9f0d-43b8-a374-2c658df5758b"
      },
      "source": [
        "history , w, b = stochastic_gradient_descent(X , y , 0.01, 10000)\n",
        "print(history)"
      ],
      "execution_count": 131,
      "outputs": [
        {
          "output_type": "stream",
          "text": [
            "[0.9463023835636318, 0.6609814999186023, 0.3745272747219562, 0.4149187543923233, 0.7350392390996251, 0.28371836556273516, 0.7940259953626604, 1.3354858213026097, 1.329366208677549, 7.288308021411741, 2.016018208131176, 0.241969376911884, 4.041701613406981, 2.5795907309467996, 0.6042334369661094, 0.36016469607621704, 0.7302785776819221, 0.5230121297021034, 0.34459511045294894, 1.396426859790062, 0.13476402121010975, 2.223146917262316, 0.18718177909825648, 1.6082924730470938, 0.5971755954759588, 0.9817801267746974, 1.665489224220199, 0.22209106969764605, 0.13363043396342816, 0.5290087559633501, 0.08829899479631899, 0.11253874011548365, 0.0795944055604877, 0.07730819799143748, 0.10689299290253346, 0.5219718053359389, 0.4352638115965948, 1.3005055226483129, 1.1059799399825316, 0.7683655857787653, 0.6385147559824701, 0.4511592284143484, 0.3302380322932758, 0.09620511321995426, 0.6778626924218493, 0.429230684099055, 0.250533022346122, 0.0720178246362146, 0.08160187513218461, 0.018099789852787776, 0.017534437165394975, 0.015043390603154442, 0.010787576686857946, 1.0915003121010742, 0.2184513234897193, 0.7619873141645503, 1.0275724364354828, 0.005930944386963253, 0.33470883566546844, 0.6112094189796925, 0.6945930732909372, 0.0015247502436663335, 0.15986060234650146, 0.09205856085852986, 3.1314215758855393, 1.4206780159590904, 0.33440925352988987, 0.0007127972144125593, 0.2541422809928325, 0.08970310185377384, 0.6450051265093686, 1.3428044486008082, 1.1663788414213935e-05, 0.0064918559773127745, 0.0002851000431705215, 0.12516589425168223, 0.00046471142263453813, 0.7246177563971125, 0.10412954709195377, 0.0683678822077057, 0.06670039687167961, 0.0007200986972028997, 0.22852180551972112, 0.03691221688046272, 0.13874937867350828, 0.15286640794676215, 0.36832584660483203, 0.03534584796334263, 0.28800751071741937, 0.016278550066742125, 1.1826883134373478, 0.5196401696669241, 0.004764761292120647, 0.0021522637757130252, 0.0729563403269941, 0.06817988247190329, 0.26059775919647116, 5.604160555285833e-05, 0.4661889213319573, 0.011165026724501629]\n"
          ],
          "name": "stdout"
        }
      ]
    },
    {
      "cell_type": "code",
      "metadata": {
        "colab": {
          "base_uri": "https://localhost:8080/",
          "height": 295
        },
        "id": "NHPsBrujcZNc",
        "outputId": "8a255166-7631-4761-a6e5-9a354164bff0"
      },
      "source": [
        "plt.plot(range(100), history)\n",
        "plt.title(\"Stochastic Gradient Descent\")\n",
        "plt.xlabel(\"Epochs * 100\")\n",
        "plt.ylabel('Cost')\n",
        "plt.show()"
      ],
      "execution_count": 133,
      "outputs": [
        {
          "output_type": "display_data",
          "data": {
            "image/png": "[encoded data removed]",
            "text/plain": [
              "<Figure size 432x288 with 1 Axes>"
            ]
          },
          "metadata": {
            "tags": [],
            "needs_background": "light"
          }
        }
      ]
    },
    {
      "cell_type": "code",
      "metadata": {
        "id": "UtQ2s_WGcb-V"
      },
      "source": [
        ""
      ],
      "execution_count": 123,
      "outputs": []
    },
    {
      "cell_type": "markdown",
      "metadata": {
        "id": "P3NJn_xCcnPN"
      },
      "source": [
        "# Mini Batch Gradient Descent\n"
      ]
    },
    {
      "cell_type": "code",
      "metadata": {
        "id": "EJumYlNCcc4k"
      },
      "source": [
        "def minbatch_gradient_descent(X, y , learning_rate , epochs, batch_size):\n",
        "  cost_history = []\n",
        "  w = np.ones((X.shape[0] ,1))\n",
        "  b = 0\n",
        "  n = len(y)\n",
        "  if batch_size > n:\n",
        "    batch_size = n\n",
        "  for epoch in range(epochs):\n",
        "    for i in range(0, n , batch_size):\n",
        "      xt = X.T[i:i+batch_size]\n",
        "      yt = y[i:i+batch_size]\n",
        "      hypothesis = np.dot(xt , w) + b\n",
        "      loss = yt - hypothesis\n",
        "      w_grad = (-2/n) * np.dot(xt.T, loss)\n",
        "      b_grad = (-2/n) * np.sum(yt - hypothesis)\n",
        "      w = w - (learning_rate * w_grad)\n",
        "      b = b - (learning_rate * b_grad)\n",
        "      if epoch%10 == 0:\n",
        "        cost = np.mean(np.square(yt - hypothesis))\n",
        "        cost_history.append(cost)\n",
        "  return cost_history , w, b"
      ],
      "execution_count": 178,
      "outputs": []
    },
    {
      "cell_type": "code",
      "metadata": {
        "id": "pW0Bdm2See0V"
      },
      "source": [
        "history , w, b = minbatch_gradient_descent(X , y , 0.01, 100 , 25)\n"
      ],
      "execution_count": 185,
      "outputs": []
    },
    {
      "cell_type": "code",
      "metadata": {
        "colab": {
          "base_uri": "https://localhost:8080/",
          "height": 283
        },
        "id": "d9awfBVHfQXw",
        "outputId": "961e3135-76ed-4e36-fe10-de6f01996716"
      },
      "source": [
        "plt.plot(range(len(history)) , history)"
      ],
      "execution_count": 188,
      "outputs": [
        {
          "output_type": "execute_result",
          "data": {
            "text/plain": [
              "[<matplotlib.lines.Line2D at 0x7f5f2c61a9d0>]"
            ]
          },
          "metadata": {
            "tags": []
          },
          "execution_count": 188
        },
        {
          "output_type": "display_data",
          "data": {
            "image/png": "[encoded data removed]",
            "text/plain": [
              "<Figure size 432x288 with 1 Axes>"
            ]
          },
          "metadata": {
            "tags": [],
            "needs_background": "light"
          }
        }
      ]
    },
    {
      "cell_type": "code",
      "metadata": {
        "id": "mtlSH7O4hnL0"
      },
      "source": [
        ""
      ],
      "execution_count": null,
      "outputs": []
    }
  ]
}