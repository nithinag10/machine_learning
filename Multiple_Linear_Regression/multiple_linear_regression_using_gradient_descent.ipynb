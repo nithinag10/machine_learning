{
  "nbformat": 4,
  "nbformat_minor": 0,
  "metadata": {
    "colab": {
      "name": "multiple_linear_regression_using gradient descent.ipynb",
      "provenance": []
    },
    "kernelspec": {
      "name": "python3",
      "display_name": "Python 3"
    }
  },
  "cells": [
    {
      "cell_type": "code",
      "metadata": {
        "id": "ds85_ghqYrkM"
      },
      "source": [
        "import numpy as np\n",
        "import pandas as pd\n",
        "import matplotlib.pyplot as plt\n",
        "from mpl_toolkits.mplot3d import Axes3D"
      ],
      "execution_count": 14,
      "outputs": []
    },
    {
      "cell_type": "code",
      "metadata": {
        "id": "wyAL9y2yYyUj"
      },
      "source": [
        "df = pd.read_csv('https://raw.githubusercontent.com/nithinag10/machine_learning/main/Multiple_Linear_Regression/student_data.csv')"
      ],
      "execution_count": 4,
      "outputs": []
    },
    {
      "cell_type": "code",
      "metadata": {
        "colab": {
          "base_uri": "https://localhost:8080/",
          "height": 204
        },
        "id": "wSlpb-HqZFPs",
        "outputId": "17b9977b-d99b-4efe-8973-fba4fecd208b"
      },
      "source": [
        "df.head()"
      ],
      "execution_count": 5,
      "outputs": [
        {
          "output_type": "execute_result",
          "data": {
            "text/html": [
              "<div>\n",
              "<style scoped>\n",
              "    .dataframe tbody tr th:only-of-type {\n",
              "        vertical-align: middle;\n",
              "    }\n",
              "\n",
              "    .dataframe tbody tr th {\n",
              "        vertical-align: top;\n",
              "    }\n",
              "\n",
              "    .dataframe thead th {\n",
              "        text-align: right;\n",
              "    }\n",
              "</style>\n",
              "<table border=\"1\" class=\"dataframe\">\n",
              "  <thead>\n",
              "    <tr style=\"text-align: right;\">\n",
              "      <th></th>\n",
              "      <th>Math</th>\n",
              "      <th>Reading</th>\n",
              "      <th>Writing</th>\n",
              "    </tr>\n",
              "  </thead>\n",
              "  <tbody>\n",
              "    <tr>\n",
              "      <th>0</th>\n",
              "      <td>48</td>\n",
              "      <td>68</td>\n",
              "      <td>63</td>\n",
              "    </tr>\n",
              "    <tr>\n",
              "      <th>1</th>\n",
              "      <td>62</td>\n",
              "      <td>81</td>\n",
              "      <td>72</td>\n",
              "    </tr>\n",
              "    <tr>\n",
              "      <th>2</th>\n",
              "      <td>79</td>\n",
              "      <td>80</td>\n",
              "      <td>78</td>\n",
              "    </tr>\n",
              "    <tr>\n",
              "      <th>3</th>\n",
              "      <td>76</td>\n",
              "      <td>83</td>\n",
              "      <td>79</td>\n",
              "    </tr>\n",
              "    <tr>\n",
              "      <th>4</th>\n",
              "      <td>59</td>\n",
              "      <td>64</td>\n",
              "      <td>62</td>\n",
              "    </tr>\n",
              "  </tbody>\n",
              "</table>\n",
              "</div>"
            ],
            "text/plain": [
              "   Math  Reading  Writing\n",
              "0    48       68       63\n",
              "1    62       81       72\n",
              "2    79       80       78\n",
              "3    76       83       79\n",
              "4    59       64       62"
            ]
          },
          "metadata": {
            "tags": []
          },
          "execution_count": 5
        }
      ]
    },
    {
      "cell_type": "code",
      "metadata": {
        "id": "EJZYnMghZGnF"
      },
      "source": [
        "#Feature matrix and target\n",
        "math = df['Math'].values"
      ],
      "execution_count": 28,
      "outputs": []
    },
    {
      "cell_type": "code",
      "metadata": {
        "id": "wDouu7V2di78"
      },
      "source": [
        "Reading = df['Reading'].values\n",
        "Writing = df['Writing'].values\n"
      ],
      "execution_count": 29,
      "outputs": []
    },
    {
      "cell_type": "code",
      "metadata": {
        "colab": {
          "base_uri": "https://localhost:8080/",
          "height": 336
        },
        "id": "M5bP32fFdtu-",
        "outputId": "433b2919-389e-4a50-a0c2-0af4d0d5ed4d"
      },
      "source": [
        "fig = plt.figure()\n",
        "ax = Axes3D(fig)\n",
        "ax.scatter(math , Reading , Writing , color='red')\n"
      ],
      "execution_count": 31,
      "outputs": [
        {
          "output_type": "execute_result",
          "data": {
            "text/plain": [
              "<mpl_toolkits.mplot3d.art3d.Path3DCollection at 0x7f0ae7290ba8>"
            ]
          },
          "metadata": {
            "tags": []
          },
          "execution_count": 31
        },
        {
          "output_type": "display_data",
          "data": {
            "image/png": "[encoded data removed]",
            "text/plain": [
              "<Figure size 432x288 with 1 Axes>"
            ]
          },
          "metadata": {
            "tags": [],
            "needs_background": "light"
          }
        }
      ]
    },
    {
      "cell_type": "code",
      "metadata": {
        "id": "D3BSnQ5keq06"
      },
      "source": [
        "m = len(Y)"
      ],
      "execution_count": 32,
      "outputs": []
    },
    {
      "cell_type": "code",
      "metadata": {
        "id": "NoddWiNGfWPY"
      },
      "source": [
        "X0 = np.ones(m)"
      ],
      "execution_count": 33,
      "outputs": []
    },
    {
      "cell_type": "code",
      "metadata": {
        "id": "zLmWCOYOfW_3"
      },
      "source": [
        "X = np.array([X0 , Reading , math]).T"
      ],
      "execution_count": 34,
      "outputs": []
    },
    {
      "cell_type": "code",
      "metadata": {
        "colab": {
          "base_uri": "https://localhost:8080/"
        },
        "id": "yeLGwcRdfb-z",
        "outputId": "5f8a6472-b1ff-4b1c-b491-fbae5104fbaa"
      },
      "source": [
        "X.shape"
      ],
      "execution_count": 35,
      "outputs": [
        {
          "output_type": "execute_result",
          "data": {
            "text/plain": [
              "(1000, 3)"
            ]
          },
          "metadata": {
            "tags": []
          },
          "execution_count": 35
        }
      ]
    },
    {
      "cell_type": "code",
      "metadata": {
        "colab": {
          "base_uri": "https://localhost:8080/"
        },
        "id": "BZjsuy2Jfqpb",
        "outputId": "789f67ce-b726-4c48-bc2e-148083139fb1"
      },
      "source": [
        "Y = Writing\n"
      ],
      "execution_count": 40,
      "outputs": [
        {
          "output_type": "execute_result",
          "data": {
            "text/plain": [
              "array([ 63,  72,  78,  79,  62,  85,  83,  41,  80,  77,  64,  90,  45,\n",
              "        77,  70,  46,  76,  44,  85,  72,  53,  66,  75,  49,  84,  83,\n",
              "        68,  66,  77,  78,  74,  83,  72,  65,  46,  66,  50,  79,  68,\n",
              "        46,  86,  70,  61,  53,  72,  75,  50,  77, 100,  81, 100,  87,\n",
              "        78,  48,  50,  44,  48,  43,  67,  78,  58,  91,  92,  78,  42,\n",
              "        85,  73,  83,  61,  58,  60,  55,  48,  62,  68,  59,  62,  48,\n",
              "        74,  63,  80,  79,  73,  79,  45,  67,  89,  77,  81,  88,  53,\n",
              "        68,  79,  77,  63,  73,  60,  67, 100,  79,  26,  51,  80,  57,\n",
              "        41,  78,  68,  49,  76,  41,  71,  77,  89,  86,  55,  80,  56,\n",
              "        74,  85,  80,  73,  74,  86,  56,  53,  44,  41,  59,  71,  81,\n",
              "        74,  78,  67,  53,  56,  75,  82,  79,  99,  76,  59,  96,  75,\n",
              "        61,  56,  88,  65, 100,  79,  55,  61,  83,  74,  59,  54,  47,\n",
              "        82,  74,  59,  74,  84,  59,  43,  65,  61,  78,  84,  73,  73,\n",
              "        92,  63,  72,  61,  59,  70,  87,  78,  65,  73,  62,  69,  55,\n",
              "        73,  63,  67,  86,  78,  85,  83,  80,  60,  90,  56,  70,  55,\n",
              "        80,  82,  60,  78,  76,  94,  75,  68,  71,  85,  46,  58,  46,\n",
              "        84,  58,  57,  59,  77,  63,  68,  99,  48,  91,  57,  80,  46,\n",
              "        75,  59,  87,  82,  79,  66,  68,  66,  61,  66,  63,  72,  73,\n",
              "        77,  84,  83,  42,  72,  76,  76,  39,  74,  43,  63,  74,  52,\n",
              "        31,  65,  45,  87,  63,  51,  82,  86,  76,  27,  70,  79,  66,\n",
              "        61,  62,  47,  17,  65,  76,  75,  66,  59,  61,  93,  40,  66,\n",
              "        43,  71,  64,  55,  86,  65,  70,  65,  53,  49,  67,  76,  95,\n",
              "        76,  48,  60,  53,  69,  78,  62,  66,  51,  52,  46,  42,  77,\n",
              "        57, 100,  84,  68,  48,  72,  50,  72,  55,  72,  77,  56,  94,\n",
              "        67,  82,  75,  80,  60,  73,  74,  62,  53,  69,  75,  60,  58,\n",
              "        71,  87,  74,  87,  73,  78,  76,  74,  55,  94,  71,  76,  59,\n",
              "        91,  57,  83,  59,  93,  64,  58,  79,  96,  76,  64,  70,  80,\n",
              "        33,  95,  64,  92,  34,  72,  81,  57,  79,  84,  82,  54,  45,\n",
              "        54,  62,  49,  74,  59,  63,  83,  62,  72,  72,  65,  65,  54,\n",
              "        78,  82,  85,  74,  83,  71,  83,  77,  66,  75,  52,  68,  84,\n",
              "        67,  70,  41,  91,  46,  58,  67,  70,  83,  64, 100,  49,  77,\n",
              "        57,  67,  80,  74,  41,  67,  59,  86,  88,  57,  80,  58,  52,\n",
              "        31,  84,  97,  71,  62,  58,  71,  41,  66, 100,  51,  35,  81,\n",
              "        94,  72,  38,  82,  79,  55,  75,  90,  95,  65,  39,  85,  86,\n",
              "        54,  93,  69,  84,  78,  58,  73,  60,  44,  67,  69,  55,  59,\n",
              "        88,  42,  78,  84,  68,  66,  51,  43,  38,  69,  90,  73,  67,\n",
              "        57,  81,  63,  80,  78,  65,  74,  80,  60,  60,  63,  64,  72,\n",
              "        51,  71,  63,  82,  76,  39,  79,  48,  70,  90,  73,  58, 100,\n",
              "        80,  75,  72,  79,  52,  56,  65,  45,  59,  61,  47,  62,  83,\n",
              "        90,  76,  72,  69,  57,  56,  40,  79,  48,  57,  47,  78,  45,\n",
              "        74,  69,  59,  85,  45,  54,  72,  74,  75,  55,  49,  53,  83,\n",
              "        22, 100,  67,  83,  46,  43,  74,  64,  35,  67,  87,  77,  91,\n",
              "        74,  96,  82,  78,  73,  52,  91,  66,  67,  71,  74,  71,  61,\n",
              "        47,  76,  85,  93,  41,  81,  86,  53,  91,  68,  96,  48,  71,\n",
              "        75,  72,  71,  62,  67,  53,  74,  63,  82,  57,  69,  52,  91,\n",
              "        73,  73,  75,  36,  71,  62, 100,  50,  74,  60,  75,  83,  83,\n",
              "       100,  67,  71,  77,  67,  95,  52,  71,  74,  60,  67,  79,  75,\n",
              "        95,  69,  80,  48,  61,  82,  39,  70,  70,  69,  32,  79,  53,\n",
              "        59,  83, 100,  80,  80,  82,  56,  83,  85,  88,  81,  95,  63,\n",
              "        70,  89,  59,  56,  62,  95,  63,  82,  69,  58,  74,  66,  82,\n",
              "        94,  70,  78,  63,  91,  70,  62,  79,  65,  74,  56,  65, 100,\n",
              "        70,  66,  54,  72,  90,  56,  65,  50,  95,  38,  76,  84,  76,\n",
              "        55,  85,  70,  73,  80,  83,  53,  67, 100,  67,  44,  96,  48,\n",
              "        77, 100,  40,  91,  55,  41,  25,  63,  59,  63,  77,  46,  49,\n",
              "        46,  93,  39,  58,  87,  57,  77, 100,  65,  34,  87,  81,  63,\n",
              "        69,  74,  70,  93,  63,  81,  81,  63,  87,  76,  54,  89,  63,\n",
              "        76,  79,  75,  50,  36,  82,  83,  85,  82,  41,  82,  45,  57,\n",
              "        88,  81,  98,  61,  95,  84,  71,  52,  71,  90,  75,  62,  63,\n",
              "        86,  70,  77,  68,  80,  67,  67,  89,  60,  79,  80,  78,  70,\n",
              "        72,  43,  14,  54,  92,  71,  65,  58,  56,  67,  64,  81,  55,\n",
              "        45,  86,  52,  75,  81,  62,  42,  21,  72,  55,  66,  69,  86,\n",
              "        67,  78,  85,  66,  47, 100,  63,  62,  61,  69,  57,  76,  52,\n",
              "        47,  51,  61,  45,  59,  81,  65,  53,  61,  90,  74,  62,  67,\n",
              "        50,  84,  70,  52,  92,  65,  65,  67,  72,  66,  62,  99,  62,\n",
              "        53,  57,  78,  56,  87,  79,  63,  87,  86,  75,  70,  60,  49,\n",
              "        41,  78,  58,  75,  89,  34,  60,  80,  85,  73,  58,  69,  74,\n",
              "        52,  58,  79,  86,  61,  68,  67,  48,  65,  73,  57,  73,  57,\n",
              "        80,  85,  81,  61,  69, 100,  99,  92,  72,  57,  44,  59,  62,\n",
              "        93,  64,  57,  72,  40,  85,  60,  83,  63,  74,  44,  61,  74,\n",
              "        68,  78,  50,  70,  68,  82,  46,  96, 100,  44,  41,  95,  79,\n",
              "        67,  52,  87,  75,  61,  42,  60,  57,  64,  52,  68,  58,  93,\n",
              "        75,  77,  66,  63,  90,  43,  65,  95,  86,  31,  95,  52,  63,\n",
              "        87,  70,  59,  84,  79,  77,  75,  66,  69,  85,  63,  50,  58,\n",
              "        80,  47,  55,  61,  87,  77,  54,  66,  68,  54,  69,  74,  81,\n",
              "        72,  61,  76,  63,  64,  73,  62,  92,  69,  70,  65,  53,  74,\n",
              "        61,  80,  85,  62,  80,  83,  56,  76,  52,  51,  74,  57,  63,\n",
              "        61,  87,  60,  54,  89,  67,  56,  70,  90,  94,  78,  72])"
            ]
          },
          "metadata": {
            "tags": []
          },
          "execution_count": 40
        }
      ]
    },
    {
      "cell_type": "code",
      "metadata": {
        "colab": {
          "base_uri": "https://localhost:8080/"
        },
        "id": "UwWvcIFjgRCU",
        "outputId": "3abde961-4618-4083-8e60-38baa081fcfe"
      },
      "source": [
        "#Initial coefficients\n",
        "\n",
        "B = np.array([0,0,0])\n",
        "Y = np.array(Writing)\n",
        "learning_rate = 0.0001\n",
        "\n"
      ],
      "execution_count": 53,
      "outputs": [
        {
          "output_type": "execute_result",
          "data": {
            "text/plain": [
              "numpy.ndarray"
            ]
          },
          "metadata": {
            "tags": []
          },
          "execution_count": 53
        }
      ]
    },
    {
      "cell_type": "code",
      "metadata": {
        "colab": {
          "base_uri": "https://localhost:8080/"
        },
        "id": "1zdtnAi0hJdl",
        "outputId": "196b20e1-545f-441e-c9d0-16ac05a4531b"
      },
      "source": [
        "def cost_function(X , Y, B):\n",
        "  m = len(Y)\n",
        "  J = np.sum((X.dot(B) - Y) ** 2)/(2*m)\n",
        "  return J\n",
        "\n",
        "initial_cost = cost_function(X, Y, B)\n",
        "print(initial_cost)\n",
        "\n",
        "def gradient_descent(X, Y, B, learning_rate, iterations):\n",
        "  cost_history = [0] * iterations\n",
        "  m = len(Y)\n",
        "  for iteration in range(iterations):\n",
        "    #Hypothesis value\n",
        "    h = X.dot(B)\n",
        "    #calculating loss\n",
        "    loss = h - Y\n",
        "    #calculating slope\n",
        "    gradient = X.T.dot(loss) /m\n",
        "    #changing values of B\n",
        "    B = B - learning_rate * gradient\n",
        "    #updating the cost in cost_history \n",
        "    cost = cost_function(X , Y, B)\n",
        "    cost_history[iteration] = cost\n",
        "  return B , cost_history\n",
        "\n",
        "\n",
        "newB , cost_history = gradient_descent(X, Y, B, learning_rate, 100000)\n",
        "\n",
        "print(cost_history[-1])"
      ],
      "execution_count": 72,
      "outputs": [
        {
          "output_type": "stream",
          "text": [
            "2470.11\n",
            "10.475123473539167\n"
          ],
          "name": "stdout"
        }
      ]
    },
    {
      "cell_type": "code",
      "metadata": {
        "colab": {
          "base_uri": "https://localhost:8080/"
        },
        "id": "MaNG_Gv2hOop",
        "outputId": "f0e0700c-44f1-48ae-d432-adb2dfd84503"
      },
      "source": [
        "cost_history[100000-1]"
      ],
      "execution_count": 73,
      "outputs": [
        {
          "output_type": "execute_result",
          "data": {
            "text/plain": [
              "10.475123473539167"
            ]
          },
          "metadata": {
            "tags": []
          },
          "execution_count": 73
        }
      ]
    },
    {
      "cell_type": "code",
      "metadata": {
        "colab": {
          "base_uri": "https://localhost:8080/"
        },
        "id": "KjVfPtY4hST8",
        "outputId": "7a85eb3f-0c90-48f3-d665-070ade2c84a7"
      },
      "source": [
        "newB"
      ],
      "execution_count": 74,
      "outputs": [
        {
          "output_type": "execute_result",
          "data": {
            "text/plain": [
              "array([-0.47889172,  0.90144884,  0.09137252])"
            ]
          },
          "metadata": {
            "tags": []
          },
          "execution_count": 74
        }
      ]
    },
    {
      "cell_type": "code",
      "metadata": {
        "id": "uZg1UALxpSl4"
      },
      "source": [
        ""
      ],
      "execution_count": null,
      "outputs": []
    }
  ]
}