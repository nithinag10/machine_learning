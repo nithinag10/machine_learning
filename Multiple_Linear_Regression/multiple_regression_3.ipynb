{
  "nbformat": 4,
  "nbformat_minor": 0,
  "metadata": {
    "colab": {
      "name": "multiple_regression 3.ipynb",
      "provenance": [],
      "collapsed_sections": []
    },
    "kernelspec": {
      "name": "python3",
      "display_name": "Python 3"
    }
  },
  "cells": [
    {
      "cell_type": "code",
      "metadata": {
        "id": "ov-dCIEHa7I7"
      },
      "source": [
        "import numpy as np\n",
        "import pandas as pd\n",
        "import matplotlib.pyplot as plt"
      ],
      "execution_count": 1,
      "outputs": []
    },
    {
      "cell_type": "code",
      "metadata": {
        "id": "FkCjhZBAtZtz"
      },
      "source": [
        "#Loading dataset\n",
        "df = pd.read_csv('https://raw.githubusercontent.com/nithinag10/machine_learning/main/Multiple_Linear_Regression/housing_prices_data.csv')"
      ],
      "execution_count": 2,
      "outputs": []
    },
    {
      "cell_type": "code",
      "metadata": {
        "colab": {
          "base_uri": "https://localhost:8080/",
          "height": 1000
        },
        "id": "zpyPIZSTtghr",
        "outputId": "39887d0c-8c50-46e7-8eab-4730e8e292f7"
      },
      "source": [
        "df"
      ],
      "execution_count": 24,
      "outputs": [
        {
          "output_type": "execute_result",
          "data": {
            "text/html": [
              "<div>\n",
              "<style scoped>\n",
              "    .dataframe tbody tr th:only-of-type {\n",
              "        vertical-align: middle;\n",
              "    }\n",
              "\n",
              "    .dataframe tbody tr th {\n",
              "        vertical-align: top;\n",
              "    }\n",
              "\n",
              "    .dataframe thead th {\n",
              "        text-align: right;\n",
              "    }\n",
              "</style>\n",
              "<table border=\"1\" class=\"dataframe\">\n",
              "  <thead>\n",
              "    <tr style=\"text-align: right;\">\n",
              "      <th></th>\n",
              "      <th>AREA</th>\n",
              "      <th>FLOOR</th>\n",
              "      <th>ROOM</th>\n",
              "      <th>PRICE</th>\n",
              "    </tr>\n",
              "  </thead>\n",
              "  <tbody>\n",
              "    <tr>\n",
              "      <th>0</th>\n",
              "      <td>1000</td>\n",
              "      <td>7</td>\n",
              "      <td>2</td>\n",
              "      <td>5618</td>\n",
              "    </tr>\n",
              "    <tr>\n",
              "      <th>1</th>\n",
              "      <td>1030</td>\n",
              "      <td>7</td>\n",
              "      <td>1</td>\n",
              "      <td>5201</td>\n",
              "    </tr>\n",
              "    <tr>\n",
              "      <th>2</th>\n",
              "      <td>1060</td>\n",
              "      <td>1</td>\n",
              "      <td>1</td>\n",
              "      <td>4779</td>\n",
              "    </tr>\n",
              "    <tr>\n",
              "      <th>3</th>\n",
              "      <td>1090</td>\n",
              "      <td>6</td>\n",
              "      <td>1</td>\n",
              "      <td>5425</td>\n",
              "    </tr>\n",
              "    <tr>\n",
              "      <th>4</th>\n",
              "      <td>1120</td>\n",
              "      <td>0</td>\n",
              "      <td>2</td>\n",
              "      <td>5657</td>\n",
              "    </tr>\n",
              "    <tr>\n",
              "      <th>5</th>\n",
              "      <td>1150</td>\n",
              "      <td>1</td>\n",
              "      <td>1</td>\n",
              "      <td>4945</td>\n",
              "    </tr>\n",
              "    <tr>\n",
              "      <th>6</th>\n",
              "      <td>1180</td>\n",
              "      <td>6</td>\n",
              "      <td>2</td>\n",
              "      <td>6475</td>\n",
              "    </tr>\n",
              "    <tr>\n",
              "      <th>7</th>\n",
              "      <td>1210</td>\n",
              "      <td>0</td>\n",
              "      <td>1</td>\n",
              "      <td>5352</td>\n",
              "    </tr>\n",
              "    <tr>\n",
              "      <th>8</th>\n",
              "      <td>1240</td>\n",
              "      <td>0</td>\n",
              "      <td>2</td>\n",
              "      <td>6290</td>\n",
              "    </tr>\n",
              "    <tr>\n",
              "      <th>9</th>\n",
              "      <td>1270</td>\n",
              "      <td>7</td>\n",
              "      <td>1</td>\n",
              "      <td>6147</td>\n",
              "    </tr>\n",
              "    <tr>\n",
              "      <th>10</th>\n",
              "      <td>1300</td>\n",
              "      <td>10</td>\n",
              "      <td>2</td>\n",
              "      <td>7718</td>\n",
              "    </tr>\n",
              "    <tr>\n",
              "      <th>11</th>\n",
              "      <td>1330</td>\n",
              "      <td>3</td>\n",
              "      <td>2</td>\n",
              "      <td>7035</td>\n",
              "    </tr>\n",
              "    <tr>\n",
              "      <th>12</th>\n",
              "      <td>1360</td>\n",
              "      <td>3</td>\n",
              "      <td>3</td>\n",
              "      <td>8712</td>\n",
              "    </tr>\n",
              "    <tr>\n",
              "      <th>13</th>\n",
              "      <td>1390</td>\n",
              "      <td>8</td>\n",
              "      <td>3</td>\n",
              "      <td>9457</td>\n",
              "    </tr>\n",
              "    <tr>\n",
              "      <th>14</th>\n",
              "      <td>1420</td>\n",
              "      <td>3</td>\n",
              "      <td>2</td>\n",
              "      <td>7304</td>\n",
              "    </tr>\n",
              "    <tr>\n",
              "      <th>15</th>\n",
              "      <td>1450</td>\n",
              "      <td>7</td>\n",
              "      <td>2</td>\n",
              "      <td>7535</td>\n",
              "    </tr>\n",
              "    <tr>\n",
              "      <th>16</th>\n",
              "      <td>1480</td>\n",
              "      <td>8</td>\n",
              "      <td>3</td>\n",
              "      <td>9968</td>\n",
              "    </tr>\n",
              "    <tr>\n",
              "      <th>17</th>\n",
              "      <td>1510</td>\n",
              "      <td>7</td>\n",
              "      <td>2</td>\n",
              "      <td>7614</td>\n",
              "    </tr>\n",
              "    <tr>\n",
              "      <th>18</th>\n",
              "      <td>1540</td>\n",
              "      <td>6</td>\n",
              "      <td>3</td>\n",
              "      <td>9762</td>\n",
              "    </tr>\n",
              "    <tr>\n",
              "      <th>19</th>\n",
              "      <td>1570</td>\n",
              "      <td>8</td>\n",
              "      <td>3</td>\n",
              "      <td>10067</td>\n",
              "    </tr>\n",
              "    <tr>\n",
              "      <th>20</th>\n",
              "      <td>1600</td>\n",
              "      <td>6</td>\n",
              "      <td>2</td>\n",
              "      <td>8074</td>\n",
              "    </tr>\n",
              "    <tr>\n",
              "      <th>21</th>\n",
              "      <td>1630</td>\n",
              "      <td>4</td>\n",
              "      <td>3</td>\n",
              "      <td>10201</td>\n",
              "    </tr>\n",
              "    <tr>\n",
              "      <th>22</th>\n",
              "      <td>1660</td>\n",
              "      <td>1</td>\n",
              "      <td>3</td>\n",
              "      <td>10051</td>\n",
              "    </tr>\n",
              "    <tr>\n",
              "      <th>23</th>\n",
              "      <td>1690</td>\n",
              "      <td>3</td>\n",
              "      <td>3</td>\n",
              "      <td>9775</td>\n",
              "    </tr>\n",
              "    <tr>\n",
              "      <th>24</th>\n",
              "      <td>1720</td>\n",
              "      <td>3</td>\n",
              "      <td>3</td>\n",
              "      <td>10229</td>\n",
              "    </tr>\n",
              "    <tr>\n",
              "      <th>25</th>\n",
              "      <td>1750</td>\n",
              "      <td>0</td>\n",
              "      <td>2</td>\n",
              "      <td>8314</td>\n",
              "    </tr>\n",
              "    <tr>\n",
              "      <th>26</th>\n",
              "      <td>1780</td>\n",
              "      <td>4</td>\n",
              "      <td>2</td>\n",
              "      <td>9288</td>\n",
              "    </tr>\n",
              "    <tr>\n",
              "      <th>27</th>\n",
              "      <td>1810</td>\n",
              "      <td>1</td>\n",
              "      <td>3</td>\n",
              "      <td>10503</td>\n",
              "    </tr>\n",
              "    <tr>\n",
              "      <th>28</th>\n",
              "      <td>1840</td>\n",
              "      <td>6</td>\n",
              "      <td>2</td>\n",
              "      <td>9763</td>\n",
              "    </tr>\n",
              "    <tr>\n",
              "      <th>29</th>\n",
              "      <td>1870</td>\n",
              "      <td>6</td>\n",
              "      <td>3</td>\n",
              "      <td>11527</td>\n",
              "    </tr>\n",
              "    <tr>\n",
              "      <th>30</th>\n",
              "      <td>1900</td>\n",
              "      <td>8</td>\n",
              "      <td>2</td>\n",
              "      <td>9912</td>\n",
              "    </tr>\n",
              "    <tr>\n",
              "      <th>31</th>\n",
              "      <td>1930</td>\n",
              "      <td>8</td>\n",
              "      <td>2</td>\n",
              "      <td>10204</td>\n",
              "    </tr>\n",
              "    <tr>\n",
              "      <th>32</th>\n",
              "      <td>1960</td>\n",
              "      <td>0</td>\n",
              "      <td>2</td>\n",
              "      <td>9085</td>\n",
              "    </tr>\n",
              "    <tr>\n",
              "      <th>33</th>\n",
              "      <td>1990</td>\n",
              "      <td>8</td>\n",
              "      <td>2</td>\n",
              "      <td>10240</td>\n",
              "    </tr>\n",
              "    <tr>\n",
              "      <th>34</th>\n",
              "      <td>2020</td>\n",
              "      <td>0</td>\n",
              "      <td>4</td>\n",
              "      <td>15220</td>\n",
              "    </tr>\n",
              "    <tr>\n",
              "      <th>35</th>\n",
              "      <td>2050</td>\n",
              "      <td>10</td>\n",
              "      <td>3</td>\n",
              "      <td>12278</td>\n",
              "    </tr>\n",
              "    <tr>\n",
              "      <th>36</th>\n",
              "      <td>2080</td>\n",
              "      <td>9</td>\n",
              "      <td>5</td>\n",
              "      <td>22270</td>\n",
              "    </tr>\n",
              "    <tr>\n",
              "      <th>37</th>\n",
              "      <td>2110</td>\n",
              "      <td>10</td>\n",
              "      <td>3</td>\n",
              "      <td>12574</td>\n",
              "    </tr>\n",
              "    <tr>\n",
              "      <th>38</th>\n",
              "      <td>2140</td>\n",
              "      <td>7</td>\n",
              "      <td>3</td>\n",
              "      <td>12618</td>\n",
              "    </tr>\n",
              "    <tr>\n",
              "      <th>39</th>\n",
              "      <td>2170</td>\n",
              "      <td>1</td>\n",
              "      <td>4</td>\n",
              "      <td>15457</td>\n",
              "    </tr>\n",
              "    <tr>\n",
              "      <th>40</th>\n",
              "      <td>2200</td>\n",
              "      <td>4</td>\n",
              "      <td>3</td>\n",
              "      <td>12793</td>\n",
              "    </tr>\n",
              "    <tr>\n",
              "      <th>41</th>\n",
              "      <td>2230</td>\n",
              "      <td>3</td>\n",
              "      <td>3</td>\n",
              "      <td>12641</td>\n",
              "    </tr>\n",
              "    <tr>\n",
              "      <th>42</th>\n",
              "      <td>2260</td>\n",
              "      <td>8</td>\n",
              "      <td>4</td>\n",
              "      <td>17207</td>\n",
              "    </tr>\n",
              "    <tr>\n",
              "      <th>43</th>\n",
              "      <td>2290</td>\n",
              "      <td>4</td>\n",
              "      <td>4</td>\n",
              "      <td>16969</td>\n",
              "    </tr>\n",
              "    <tr>\n",
              "      <th>44</th>\n",
              "      <td>2320</td>\n",
              "      <td>2</td>\n",
              "      <td>4</td>\n",
              "      <td>16293</td>\n",
              "    </tr>\n",
              "    <tr>\n",
              "      <th>45</th>\n",
              "      <td>2350</td>\n",
              "      <td>5</td>\n",
              "      <td>4</td>\n",
              "      <td>16845</td>\n",
              "    </tr>\n",
              "    <tr>\n",
              "      <th>46</th>\n",
              "      <td>2380</td>\n",
              "      <td>10</td>\n",
              "      <td>4</td>\n",
              "      <td>17604</td>\n",
              "    </tr>\n",
              "    <tr>\n",
              "      <th>47</th>\n",
              "      <td>2410</td>\n",
              "      <td>6</td>\n",
              "      <td>4</td>\n",
              "      <td>17310</td>\n",
              "    </tr>\n",
              "    <tr>\n",
              "      <th>48</th>\n",
              "      <td>2440</td>\n",
              "      <td>9</td>\n",
              "      <td>3</td>\n",
              "      <td>14036</td>\n",
              "    </tr>\n",
              "    <tr>\n",
              "      <th>49</th>\n",
              "      <td>2470</td>\n",
              "      <td>3</td>\n",
              "      <td>3</td>\n",
              "      <td>13699</td>\n",
              "    </tr>\n",
              "  </tbody>\n",
              "</table>\n",
              "</div>"
            ],
            "text/plain": [
              "    AREA  FLOOR  ROOM  PRICE\n",
              "0   1000      7     2   5618\n",
              "1   1030      7     1   5201\n",
              "2   1060      1     1   4779\n",
              "3   1090      6     1   5425\n",
              "4   1120      0     2   5657\n",
              "5   1150      1     1   4945\n",
              "6   1180      6     2   6475\n",
              "7   1210      0     1   5352\n",
              "8   1240      0     2   6290\n",
              "9   1270      7     1   6147\n",
              "10  1300     10     2   7718\n",
              "11  1330      3     2   7035\n",
              "12  1360      3     3   8712\n",
              "13  1390      8     3   9457\n",
              "14  1420      3     2   7304\n",
              "15  1450      7     2   7535\n",
              "16  1480      8     3   9968\n",
              "17  1510      7     2   7614\n",
              "18  1540      6     3   9762\n",
              "19  1570      8     3  10067\n",
              "20  1600      6     2   8074\n",
              "21  1630      4     3  10201\n",
              "22  1660      1     3  10051\n",
              "23  1690      3     3   9775\n",
              "24  1720      3     3  10229\n",
              "25  1750      0     2   8314\n",
              "26  1780      4     2   9288\n",
              "27  1810      1     3  10503\n",
              "28  1840      6     2   9763\n",
              "29  1870      6     3  11527\n",
              "30  1900      8     2   9912\n",
              "31  1930      8     2  10204\n",
              "32  1960      0     2   9085\n",
              "33  1990      8     2  10240\n",
              "34  2020      0     4  15220\n",
              "35  2050     10     3  12278\n",
              "36  2080      9     5  22270\n",
              "37  2110     10     3  12574\n",
              "38  2140      7     3  12618\n",
              "39  2170      1     4  15457\n",
              "40  2200      4     3  12793\n",
              "41  2230      3     3  12641\n",
              "42  2260      8     4  17207\n",
              "43  2290      4     4  16969\n",
              "44  2320      2     4  16293\n",
              "45  2350      5     4  16845\n",
              "46  2380     10     4  17604\n",
              "47  2410      6     4  17310\n",
              "48  2440      9     3  14036\n",
              "49  2470      3     3  13699"
            ]
          },
          "metadata": {
            "tags": []
          },
          "execution_count": 24
        }
      ]
    },
    {
      "cell_type": "code",
      "metadata": {
        "id": "wxV4Hh68thG2"
      },
      "source": [
        "x = df.iloc[ : , :3].values"
      ],
      "execution_count": 25,
      "outputs": []
    },
    {
      "cell_type": "code",
      "metadata": {
        "id": "iiffYjLeuYUw"
      },
      "source": [
        "y = df.iloc[: , 3].values"
      ],
      "execution_count": 26,
      "outputs": []
    },
    {
      "cell_type": "code",
      "metadata": {
        "colab": {
          "base_uri": "https://localhost:8080/"
        },
        "id": "Yw-JuXTUuY9b",
        "outputId": "a43c138a-f4bf-49f6-8663-319535d5ed70"
      },
      "source": [
        "x"
      ],
      "execution_count": 27,
      "outputs": [
        {
          "output_type": "execute_result",
          "data": {
            "text/plain": [
              "array([[1000,    7,    2],\n",
              "       [1030,    7,    1],\n",
              "       [1060,    1,    1],\n",
              "       [1090,    6,    1],\n",
              "       [1120,    0,    2],\n",
              "       [1150,    1,    1],\n",
              "       [1180,    6,    2],\n",
              "       [1210,    0,    1],\n",
              "       [1240,    0,    2],\n",
              "       [1270,    7,    1],\n",
              "       [1300,   10,    2],\n",
              "       [1330,    3,    2],\n",
              "       [1360,    3,    3],\n",
              "       [1390,    8,    3],\n",
              "       [1420,    3,    2],\n",
              "       [1450,    7,    2],\n",
              "       [1480,    8,    3],\n",
              "       [1510,    7,    2],\n",
              "       [1540,    6,    3],\n",
              "       [1570,    8,    3],\n",
              "       [1600,    6,    2],\n",
              "       [1630,    4,    3],\n",
              "       [1660,    1,    3],\n",
              "       [1690,    3,    3],\n",
              "       [1720,    3,    3],\n",
              "       [1750,    0,    2],\n",
              "       [1780,    4,    2],\n",
              "       [1810,    1,    3],\n",
              "       [1840,    6,    2],\n",
              "       [1870,    6,    3],\n",
              "       [1900,    8,    2],\n",
              "       [1930,    8,    2],\n",
              "       [1960,    0,    2],\n",
              "       [1990,    8,    2],\n",
              "       [2020,    0,    4],\n",
              "       [2050,   10,    3],\n",
              "       [2080,    9,    5],\n",
              "       [2110,   10,    3],\n",
              "       [2140,    7,    3],\n",
              "       [2170,    1,    4],\n",
              "       [2200,    4,    3],\n",
              "       [2230,    3,    3],\n",
              "       [2260,    8,    4],\n",
              "       [2290,    4,    4],\n",
              "       [2320,    2,    4],\n",
              "       [2350,    5,    4],\n",
              "       [2380,   10,    4],\n",
              "       [2410,    6,    4],\n",
              "       [2440,    9,    3],\n",
              "       [2470,    3,    3]])"
            ]
          },
          "metadata": {
            "tags": []
          },
          "execution_count": 27
        }
      ]
    },
    {
      "cell_type": "code",
      "metadata": {
        "id": "6UtvgmTkuhXR"
      },
      "source": [
        "from sklearn.model_selection import train_test_split\n"
      ],
      "execution_count": 13,
      "outputs": []
    },
    {
      "cell_type": "code",
      "metadata": {
        "id": "JcWwdTdPutuu"
      },
      "source": [
        "x_train , x_test , y_train , y_test = train_test_split(x , y, train_size = 0.8 , random_state=100)"
      ],
      "execution_count": 34,
      "outputs": []
    },
    {
      "cell_type": "code",
      "metadata": {
        "colab": {
          "base_uri": "https://localhost:8080/"
        },
        "id": "tDMMgrXNu2WX",
        "outputId": "4303e340-d8e0-4b8b-addb-25063d8b53df"
      },
      "source": [
        "x_train.shape"
      ],
      "execution_count": 35,
      "outputs": [
        {
          "output_type": "execute_result",
          "data": {
            "text/plain": [
              "(40, 3)"
            ]
          },
          "metadata": {
            "tags": []
          },
          "execution_count": 35
        }
      ]
    },
    {
      "cell_type": "code",
      "metadata": {
        "colab": {
          "base_uri": "https://localhost:8080/"
        },
        "id": "SGm3M9Qlu5pz",
        "outputId": "ea8740d5-7804-4b09-9cc2-0eca3ef5e6de"
      },
      "source": [
        "x_test.shape"
      ],
      "execution_count": 36,
      "outputs": [
        {
          "output_type": "execute_result",
          "data": {
            "text/plain": [
              "(10, 3)"
            ]
          },
          "metadata": {
            "tags": []
          },
          "execution_count": 36
        }
      ]
    },
    {
      "cell_type": "code",
      "metadata": {
        "id": "A8yZOSx5u8xP"
      },
      "source": [
        "from sklearn.linear_model import LinearRegression"
      ],
      "execution_count": 37,
      "outputs": []
    },
    {
      "cell_type": "code",
      "metadata": {
        "id": "J9fLmXAJvCtR"
      },
      "source": [
        "model = LinearRegression()"
      ],
      "execution_count": 38,
      "outputs": []
    },
    {
      "cell_type": "code",
      "metadata": {
        "colab": {
          "base_uri": "https://localhost:8080/"
        },
        "id": "BTM0ow4PvEnQ",
        "outputId": "613a5d77-4533-4b11-a387-ffc7aa1998df"
      },
      "source": [
        "model.fit(x_train , y_train)"
      ],
      "execution_count": 40,
      "outputs": [
        {
          "output_type": "execute_result",
          "data": {
            "text/plain": [
              "LinearRegression(copy_X=True, fit_intercept=True, n_jobs=None, normalize=False)"
            ]
          },
          "metadata": {
            "tags": []
          },
          "execution_count": 40
        }
      ]
    },
    {
      "cell_type": "code",
      "metadata": {
        "colab": {
          "base_uri": "https://localhost:8080/"
        },
        "id": "rub8nzpbvG6c",
        "outputId": "680c486e-6f5c-4096-e0b9-33dfa17847a9"
      },
      "source": [
        "model.coef_"
      ],
      "execution_count": 41,
      "outputs": [
        {
          "output_type": "execute_result",
          "data": {
            "text/plain": [
              "array([   4.68576316,   71.78274093, 1894.45529322])"
            ]
          },
          "metadata": {
            "tags": []
          },
          "execution_count": 41
        }
      ]
    },
    {
      "cell_type": "code",
      "metadata": {
        "colab": {
          "base_uri": "https://localhost:8080/"
        },
        "id": "Lhygm2Djv7Ow",
        "outputId": "4d961e89-abfd-4aa1-9cbd-76f15b441b3b"
      },
      "source": [
        "model.intercept_"
      ],
      "execution_count": 42,
      "outputs": [
        {
          "output_type": "execute_result",
          "data": {
            "text/plain": [
              "-3106.412792003408"
            ]
          },
          "metadata": {
            "tags": []
          },
          "execution_count": 42
        }
      ]
    },
    {
      "cell_type": "code",
      "metadata": {
        "colab": {
          "base_uri": "https://localhost:8080/"
        },
        "id": "RDgjyLT8v9X9",
        "outputId": "f02ab30f-4fb3-4129-e2bc-8fedda622db1"
      },
      "source": [
        "model.score(x_train , y_train)"
      ],
      "execution_count": 43,
      "outputs": [
        {
          "output_type": "execute_result",
          "data": {
            "text/plain": [
              "0.9646204930750824"
            ]
          },
          "metadata": {
            "tags": []
          },
          "execution_count": 43
        }
      ]
    },
    {
      "cell_type": "code",
      "metadata": {
        "colab": {
          "base_uri": "https://localhost:8080/"
        },
        "id": "NX-NDFY0wG2A",
        "outputId": "74178bcf-2473-4949-ba6a-8a68d3cfb54b"
      },
      "source": [
        "model.score(x_test , y_test)"
      ],
      "execution_count": 44,
      "outputs": [
        {
          "output_type": "execute_result",
          "data": {
            "text/plain": [
              "0.8606154687481635"
            ]
          },
          "metadata": {
            "tags": []
          },
          "execution_count": 44
        }
      ]
    },
    {
      "cell_type": "code",
      "metadata": {
        "id": "3QOszCHAwKIY"
      },
      "source": [
        ""
      ],
      "execution_count": null,
      "outputs": []
    }
  ]
}